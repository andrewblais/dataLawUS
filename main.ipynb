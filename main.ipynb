{
  "cells": [
    {
      "cell_type": "markdown",
      "metadata": {
        "id": "0KrR-Qd_wXf-"
      },
      "source": [
        "# **_Introduction_**"
      ]
    },
    {
      "cell_type": "markdown",
      "metadata": {
        "id": "I6e2m4XsuRoL"
      },
      "source": [
        "Since Jan. 1, 2015, [The Washington Post](https://www.washingtonpost.com/) has been compiling a database of every fatal shooting in the US by a police officer in the line of duty. \n",
        "\n",
        "<center><img src=https://i.imgur.com/sX3K62b.png></center>\n",
        "\n",
        "While there are many challenges regarding data collection and reporting, The Washington Post has been tracking more than a dozen details about each killing. This includes the race, age and gender of the deceased, whether the person was armed, and whether the victim was experiencing a mental-health crisis. The Washington Post has gathered this supplemental information from law enforcement websites, local new reports, social media, and by monitoring independent databases such as \"Killed by police\" and \"Fatal Encounters\". The Post has also conducted additional reporting in many cases.\n",
        "\n",
        "There are 4 additional datasets: US census data on poverty rate, high school graduation rate, median household income, and racial demographics. [Source of census data](https://factfinder.census.gov/faces/nav/jsf/pages/community_facts.xhtml)."
      ]
    },
    {
      "cell_type": "markdown",
      "metadata": {
        "id": "JwGJl3mnw2Af"
      },
      "source": [
        "### Upgrade Plotly\n",
        "\n",
        "Run the cell below if you are working with Google Colab"
      ]
    },
    {
      "cell_type": "code",
      "execution_count": null,
      "metadata": {
        "colab": {
          "base_uri": "https://localhost:8080/"
        },
        "id": "KvA9PBoRwvQG",
        "outputId": "ca6ee2a1-8da5-4f2d-f2b2-ea019cd92cae"
      },
      "outputs": [],
      "source": [
        "# %pip install --upgrade plotly"
      ]
    },
    {
      "cell_type": "markdown",
      "metadata": {
        "id": "jqXsMLNJxELp"
      },
      "source": [
        "## **_Import Statements_**"
      ]
    },
    {
      "cell_type": "code",
      "execution_count": null,
      "metadata": {
        "id": "TPhEXC2FxGSr"
      },
      "outputs": [],
      "source": [
        "import numpy as np\n",
        "import pandas as pd\n",
        "import plotly.express as px\n",
        "import matplotlib.pyplot as plt\n",
        "import seaborn as sns\n",
        "\n",
        "# This might be helpful:\n",
        "from collections import Counter"
      ]
    },
    {
      "cell_type": "markdown",
      "metadata": {
        "id": "SwKGmmaLxS2s"
      },
      "source": [
        "## **_Notebook Presentation_**"
      ]
    },
    {
      "cell_type": "code",
      "execution_count": null,
      "metadata": {
        "id": "ayQQqhKtxBxj"
      },
      "outputs": [],
      "source": [
        "pd.options.display.float_format = '{:,.2f}'.format"
      ]
    },
    {
      "cell_type": "markdown",
      "metadata": {
        "id": "nKxJMOiMyAUF"
      },
      "source": [
        "## **_Load the Data_**"
      ]
    },
    {
      "cell_type": "markdown",
      "metadata": {},
      "source": [
        "#### **_Make file retrieval process more robust w/`os` stuff:_**"
      ]
    },
    {
      "cell_type": "code",
      "execution_count": null,
      "metadata": {},
      "outputs": [],
      "source": [
        "import os"
      ]
    },
    {
      "cell_type": "code",
      "execution_count": null,
      "metadata": {},
      "outputs": [],
      "source": [
        "curr_dir = os.getcwd()\n",
        "data_dir = os.path.join(curr_dir, 'data')\n",
        "\n",
        "data_dir"
      ]
    },
    {
      "cell_type": "code",
      "execution_count": null,
      "metadata": {},
      "outputs": [],
      "source": [
        "enc = 'windows-1252'\n",
        "\n",
        "hh_income_csv_path = os.path.join(data_dir, \"Median_Household_Income_2015.csv\")\n",
        "df_hh_income = pd.read_csv(hh_income_csv_path, encoding=enc)\n",
        "\n",
        "pct_poverty_csv_path = os.path.join(data_dir, \"Pct_People_Below_Poverty_Level.csv\")\n",
        "df_pct_poverty = pd.read_csv(pct_poverty_csv_path, encoding=enc)\n",
        "\n",
        "pct_completed_hs_csv_path = os.path.join(data_dir, \"Pct_Over_25_Completed_High_School.csv\")\n",
        "df_pct_completed_hs = pd.read_csv(pct_completed_hs_csv_path, encoding=enc)\n",
        "\n",
        "share_race_city_csv_path = os.path.join(data_dir, \"Share_of_Race_By_City.csv\")\n",
        "df_share_race_city = pd.read_csv(share_race_city_csv_path, encoding=enc)\n",
        "\n",
        "fatalities_csv_path = os.path.join(data_dir, \"Deaths_by_Police_US.csv\")\n",
        "df_fatalities = pd.read_csv(fatalities_csv_path, encoding=enc)\n"
      ]
    },
    {
      "cell_type": "markdown",
      "metadata": {},
      "source": [
        "---\n",
        "---"
      ]
    },
    {
      "cell_type": "markdown",
      "metadata": {
        "id": "6RuA5SvUyEaB"
      },
      "source": [
        "# **_Preliminary Data Exploration_**"
      ]
    },
    {
      "cell_type": "markdown",
      "metadata": {},
      "source": [
        "* What is the shape of the DataFrames? "
      ]
    },
    {
      "cell_type": "code",
      "execution_count": null,
      "metadata": {
        "id": "3U9RcS1WyrRJ"
      },
      "outputs": [],
      "source": [
        "print(f\"`df_hh_income` shape: {df_hh_income.shape}\")\n",
        "print(f\"`df_pct_poverty` shape: {df_pct_poverty.shape}\")\n",
        "print(f\"`df_pct_completed_hs` shape: {df_pct_completed_hs.shape}\")\n",
        "print(f\"`df_share_race_city` shape: {df_share_race_city.shape}\")\n",
        "print(f\"`df_fatalities` shape: {df_fatalities.shape}\")"
      ]
    },
    {
      "cell_type": "markdown",
      "metadata": {},
      "source": [
        "---"
      ]
    },
    {
      "cell_type": "markdown",
      "metadata": {},
      "source": [
        "* How many rows and columns do they have?"
      ]
    },
    {
      "cell_type": "code",
      "execution_count": null,
      "metadata": {},
      "outputs": [],
      "source": [
        "df_hh_income_columns, df_hh_income_rows = df_hh_income.shape\n",
        "print(f\"df_hh_income cols: {df_hh_income_columns}\")\n",
        "print(f\"df_hh_income rows: {df_hh_income_rows}\\n\")\n",
        "\n",
        "df_pct_poverty_columns, df_pct_poverty_rows = df_pct_poverty.shape\n",
        "print(f\"df_pct_poverty cols: {df_pct_poverty_columns}\")\n",
        "print(f\"df_pct_poverty rows: {df_pct_poverty_rows}\\n\")\n",
        "\n",
        "df_pct_completed_hs_columns, df_pct_completed_hs_rows = df_pct_completed_hs.shape\n",
        "print(f\"df_pct_completed_hs cols: {df_pct_completed_hs_columns}\")\n",
        "print(f\"df_pct_completed_hs rows: {df_pct_completed_hs_rows}\\n\")\n",
        "\n",
        "df_share_race_city_columns, df_share_race_city_rows = df_share_race_city.shape\n",
        "print(f\"df_share_race_city cols: {df_share_race_city_columns}\")\n",
        "print(f\"df_share_race_city rows: {df_share_race_city_rows}\\n\")\n",
        "\n",
        "df_fatalities_columns, df_fatalities_rows = df_fatalities.shape\n",
        "print(f\"df_fatalities cols: {df_fatalities_columns}\")\n",
        "print(f\"df_fatalities rows: {df_fatalities_rows}\\n\")\n"
      ]
    },
    {
      "cell_type": "markdown",
      "metadata": {},
      "source": [
        "#### **_Analysis:_**"
      ]
    },
    {
      "cell_type": "markdown",
      "metadata": {},
      "source": [
        "The first four DFs have similar number of rows.\n",
        "\n",
        "The second and third DFs have the exact same number of rows.\n",
        "\n",
        "The first three have the same number of columns.\n",
        "\n",
        "The last has many fewer rows, but more columns."
      ]
    },
    {
      "cell_type": "markdown",
      "metadata": {},
      "source": [
        "---"
      ]
    },
    {
      "cell_type": "markdown",
      "metadata": {},
      "source": [
        "* What are the column names?"
      ]
    },
    {
      "cell_type": "code",
      "execution_count": null,
      "metadata": {},
      "outputs": [],
      "source": [
        "def format_col_names(dataframe):\n",
        "    col_list = dataframe.columns\n",
        "    col_name_str = \", \".join(col_list)\n",
        "    return col_name_str"
      ]
    },
    {
      "cell_type": "code",
      "execution_count": null,
      "metadata": {},
      "outputs": [],
      "source": [
        "df_hh_income_cols = format_col_names(df_hh_income)\n",
        "print(f\"`df_hh_income` col names: {df_hh_income_cols}\\n\")\n",
        "\n",
        "df_pct_poverty_cols = format_col_names(df_pct_poverty)\n",
        "print(f\"`df_pct_poverty` col names: {df_pct_poverty_cols}\\n\")\n",
        "\n",
        "df_pct_completed_hs_cols = format_col_names(df_pct_completed_hs)\n",
        "print(f\"`df_pct_completed_hs` col names: {df_pct_completed_hs_cols}\\n\")\n",
        "\n",
        "df_share_race_city_cols = format_col_names(df_share_race_city)\n",
        "print(f\"`df_share_race_city` col names: {df_share_race_city_cols}\\n\")\n",
        "\n",
        "df_fatalities_cols = format_col_names(df_fatalities)\n",
        "print(f\"`df_fatalities` col names: {df_fatalities_cols}\\n\")\n"
      ]
    },
    {
      "cell_type": "markdown",
      "metadata": {},
      "source": [
        "---"
      ]
    },
    {
      "cell_type": "markdown",
      "metadata": {},
      "source": [
        "* Are there any NaN values or duplicates?"
      ]
    },
    {
      "cell_type": "code",
      "execution_count": null,
      "metadata": {},
      "outputs": [],
      "source": [
        "print(f\"`NaN` info for `df_hh_income`: {df_hh_income.isna().sum()}\\n\")\n",
        "print(f\"Duplicate # for `df_hh_income`: {df_hh_income.duplicated().sum()}\\n\")"
      ]
    },
    {
      "cell_type": "code",
      "execution_count": null,
      "metadata": {},
      "outputs": [],
      "source": [
        "print(f\"`NaN` info for `df_pct_poverty`: {df_pct_poverty.isna().sum()}\\n\")\n",
        "print(f\"Duplicate # for `df_pct_poverty`: {df_pct_poverty.duplicated().sum()}\\n\")"
      ]
    },
    {
      "cell_type": "code",
      "execution_count": null,
      "metadata": {},
      "outputs": [],
      "source": [
        "print(f\"`NaN` info for `df_pct_completed_hs`: {df_pct_completed_hs.isna().sum()}\\n\")\n",
        "print(f\"Duplicate # for `df_pct_completed_hs`: {df_pct_completed_hs.duplicated().sum()}\\n\")"
      ]
    },
    {
      "cell_type": "code",
      "execution_count": null,
      "metadata": {},
      "outputs": [],
      "source": [
        "print(f\"`NaN` info for `df_share_race_city`: {df_share_race_city.isna().sum()}\\n\")\n",
        "print(f\"Duplicate # for `df_share_race_city`: {df_share_race_city.duplicated().sum()}\\n\")"
      ]
    },
    {
      "cell_type": "code",
      "execution_count": null,
      "metadata": {},
      "outputs": [],
      "source": [
        "print(f\"`NaN` info for `df_fatalities`: {df_fatalities.isna().sum()}\\n\")\n",
        "print(f\"Duplicate # for `df_fatalities`: {df_fatalities.duplicated().sum()}\\n\")"
      ]
    },
    {
      "cell_type": "markdown",
      "metadata": {},
      "source": [
        "#### **_Analysis:_**"
      ]
    },
    {
      "cell_type": "markdown",
      "metadata": {},
      "source": [
        "df_hh_income and df_fatalities have NaN issues.\n",
        "\n",
        "None of the DFs have duplicates."
      ]
    },
    {
      "cell_type": "markdown",
      "metadata": {},
      "source": [
        "---"
      ]
    },
    {
      "cell_type": "markdown",
      "metadata": {
        "id": "p72TfMvayr2C"
      },
      "source": [
        "## **_Data Cleaning - Check for Missing Values and Duplicates_**\n",
        "\n",
        "Consider how to deal with the NaN values. Perhaps substituting 0 is appropriate. "
      ]
    },
    {
      "cell_type": "code",
      "execution_count": null,
      "metadata": {},
      "outputs": [],
      "source": [
        "# Before fixing NaNs:\n",
        "df_hh_income.isna().sum()"
      ]
    },
    {
      "cell_type": "code",
      "execution_count": null,
      "metadata": {},
      "outputs": [],
      "source": [
        "df_hh_income['Median Income'] = df_hh_income['Median Income'].fillna(0)"
      ]
    },
    {
      "cell_type": "code",
      "execution_count": null,
      "metadata": {},
      "outputs": [],
      "source": [
        "# After fixing NaNs:\n",
        "df_hh_income.isna().sum()"
      ]
    },
    {
      "cell_type": "markdown",
      "metadata": {},
      "source": [
        "---"
      ]
    },
    {
      "cell_type": "code",
      "execution_count": null,
      "metadata": {},
      "outputs": [],
      "source": [
        "# Before fixing NaNs:\n",
        "df_fatalities.isna().sum()"
      ]
    },
    {
      "cell_type": "code",
      "execution_count": null,
      "metadata": {
        "id": "WEZuPaXvyxxp"
      },
      "outputs": [],
      "source": [
        "df_fatalities['armed'] = df_fatalities['armed'].fillna(0)\n",
        "df_fatalities['age'] = df_fatalities['age'].fillna(0)\n",
        "df_fatalities['race'] = df_fatalities['race'].fillna(0)\n",
        "df_fatalities['flee'] = df_fatalities['flee'].fillna(0)"
      ]
    },
    {
      "cell_type": "code",
      "execution_count": null,
      "metadata": {},
      "outputs": [],
      "source": [
        "# After fixing NaNs:\n",
        "df_fatalities.isna().sum()"
      ]
    },
    {
      "cell_type": "markdown",
      "metadata": {},
      "source": [
        "#### **_Analysis:_**\n",
        "\n",
        "All `NaN`s handled.\n",
        "\n",
        "No duplicates to be handled."
      ]
    },
    {
      "cell_type": "markdown",
      "metadata": {},
      "source": [
        "---\n",
        "---"
      ]
    },
    {
      "cell_type": "markdown",
      "metadata": {
        "_uuid": "52b308c936f5835c5cd186497fe3f96e96372483",
        "id": "n3DrcXVQuRoZ"
      },
      "source": [
        "# **_Chart the Poverty Rate in each US State_**\n",
        "\n",
        "Create a bar chart that ranks the poverty rate from highest to lowest by US state. Which state has the highest poverty rate? Which state has the lowest poverty rate?  Bar Plot"
      ]
    },
    {
      "cell_type": "code",
      "execution_count": null,
      "metadata": {
        "id": "B3AM6oJQ1D_P"
      },
      "outputs": [],
      "source": [
        "# df_hh_income\n",
        "# df_pct_poverty\n",
        "# df_pct_completed_hs\n",
        "# df_share_race_city\n",
        "# df_fatalities"
      ]
    },
    {
      "cell_type": "markdown",
      "metadata": {},
      "source": [
        "##### **_Check data types for column `poverty_rate`:_**"
      ]
    },
    {
      "cell_type": "code",
      "execution_count": null,
      "metadata": {},
      "outputs": [],
      "source": [
        "df_pct_poverty.dtypes"
      ]
    },
    {
      "cell_type": "markdown",
      "metadata": {},
      "source": [
        "##### **_Check all strings are numbers:_**"
      ]
    },
    {
      "cell_type": "code",
      "execution_count": null,
      "metadata": {},
      "outputs": [],
      "source": [
        "# for i in df_pct_poverty.poverty_rate:\n",
        "#     print(i)"
      ]
    },
    {
      "cell_type": "markdown",
      "metadata": {},
      "source": [
        "##### **_Some values are `-`, let's replace them with `0`:_**"
      ]
    },
    {
      "cell_type": "code",
      "execution_count": null,
      "metadata": {},
      "outputs": [],
      "source": [
        "df_pct_poverty[\"poverty_rate\"] = df_pct_poverty[\"poverty_rate\"].replace(\"-\", \"0\")"
      ]
    },
    {
      "cell_type": "markdown",
      "metadata": {},
      "source": [
        "##### **_Convert that column from str/object to numeric/int:_**"
      ]
    },
    {
      "cell_type": "code",
      "execution_count": null,
      "metadata": {},
      "outputs": [],
      "source": [
        "df_pct_poverty[\"poverty_rate\"] = pd.to_numeric(df_pct_poverty[\"poverty_rate\"])"
      ]
    },
    {
      "cell_type": "markdown",
      "metadata": {},
      "source": [
        "##### **_Remove rows w/0 (no data):_**"
      ]
    },
    {
      "cell_type": "code",
      "execution_count": null,
      "metadata": {},
      "outputs": [],
      "source": [
        "df_pct_poverty = df_pct_poverty[df_pct_poverty[\"poverty_rate\"] != 0]"
      ]
    },
    {
      "cell_type": "markdown",
      "metadata": {},
      "source": [
        "##### **_Two ways to aggregate data:_**"
      ]
    },
    {
      "cell_type": "code",
      "execution_count": null,
      "metadata": {},
      "outputs": [],
      "source": [
        "df_pov_state = df_pct_poverty.groupby(\"Geographic Area\")[\"poverty_rate\"].mean().reset_index()\n",
        "\n",
        "# Or:\n",
        "# df_pov_state = df_pct_poverty.groupby(\"Geographic Area\").agg({\"poverty_rate\": 'mean'}).reset_index()"
      ]
    },
    {
      "cell_type": "markdown",
      "metadata": {},
      "source": [
        "##### **_Sort and reset indices:_**"
      ]
    },
    {
      "cell_type": "code",
      "execution_count": null,
      "metadata": {},
      "outputs": [],
      "source": [
        "df_pov_state.sort_values(by=\"poverty_rate\", inplace=True, ascending=False)\n",
        "df_pov_state.reset_index(inplace=True, drop=True)"
      ]
    },
    {
      "cell_type": "markdown",
      "metadata": {},
      "source": [
        "##### **_Verify the new DF:_**"
      ]
    },
    {
      "cell_type": "code",
      "execution_count": null,
      "metadata": {},
      "outputs": [],
      "source": [
        "# df_pov_state"
      ]
    },
    {
      "cell_type": "markdown",
      "metadata": {},
      "source": [
        "##### **_Colors I like for a white background:_**"
      ]
    },
    {
      "cell_type": "code",
      "execution_count": null,
      "metadata": {},
      "outputs": [],
      "source": [
        "seaborn_palettes = ['deep', 'muted', 'pastel', 'bright', 'dark', 'colorblind']"
      ]
    },
    {
      "cell_type": "code",
      "execution_count": null,
      "metadata": {},
      "outputs": [],
      "source": [
        "from matplotlib import colormaps\n",
        "all_palettes = list(colormaps) + seaborn_palettes"
      ]
    },
    {
      "cell_type": "code",
      "execution_count": null,
      "metadata": {},
      "outputs": [],
      "source": [
        "pov_states = df_pov_state[\"Geographic Area\"]\n",
        "pov_rate = df_pov_state[\"poverty_rate\"]"
      ]
    },
    {
      "cell_type": "code",
      "execution_count": null,
      "metadata": {},
      "outputs": [],
      "source": [
        "from random import choice, choices"
      ]
    },
    {
      "cell_type": "markdown",
      "metadata": {},
      "source": [
        "##### **_w/Seaborn:_**"
      ]
    },
    {
      "cell_type": "code",
      "execution_count": null,
      "metadata": {},
      "outputs": [],
      "source": [
        "# Initialize MatPlotLib figure\n",
        "fig, ax = plt.subplots(figsize=(17, 7))\n",
        "\n",
        "palette = choice(seaborn_palettes)\n",
        "\n",
        "# Plot the months/counts:\n",
        "# sns.barplot(x=pov_states, y=pov_rate, hue=pov_states, palette=palette, legend='auto')\n",
        "sns.barplot(\n",
        "    df_pov_state,\n",
        "    x=\"Geographic Area\",\n",
        "    y=\"poverty_rate\",\n",
        "    hue=\"Geographic Area\",\n",
        "    palette=palette,\n",
        ")\n",
        "\n",
        "plt.xlabel(\"States\", size=14, weight='bold')\n",
        "plt.ylabel(\"Poverty Rate (pct.)\", size=14, weight='bold')\n",
        "\n",
        "plt.title(f\"Poverty Rates: US States\\n(color palette: {palette})\",\n",
        "          size=20,\n",
        "          weight='bold')\n",
        "\n",
        "plt.show()"
      ]
    },
    {
      "cell_type": "code",
      "execution_count": null,
      "metadata": {},
      "outputs": [],
      "source": [
        "colors = [\"blue\",\n",
        "          \"navy\",\n",
        "          \"peru\",\n",
        "          \"black\",\n",
        "          \"brown\",\n",
        "          \"green\",\n",
        "          \"olive\",\n",
        "          \"indigo\",\n",
        "          \"maroon\",\n",
        "          \"purple\",\n",
        "          \"sienna\",\n",
        "          \"crimson\",\n",
        "          \"darkred\",\n",
        "          \"dimgray\",\n",
        "          \"darkblue\",\n",
        "          \"darkcyan\",\n",
        "          \"deeppink\",\n",
        "          \"seagreen\",\n",
        "          \"chocolate\",\n",
        "          \"darkgreen\",\n",
        "          \"darkkhaki\",\n",
        "          \"firebrick\",\n",
        "          \"goldenrod\",\n",
        "          \"limegreen\",\n",
        "          \"olivedrab\",\n",
        "          \"palegreen\",\n",
        "          \"rosybrown\",\n",
        "          \"royalblue\",\n",
        "          \"slateblue\",\n",
        "          \"steelblue\",\n",
        "          \"darkorange\",\n",
        "          \"darkorchid\",\n",
        "          \"darksalmon\",\n",
        "          \"darkviolet\",\n",
        "          \"dodgerblue\",\n",
        "          \"lightgreen\",\n",
        "          \"mediumblue\",\n",
        "          \"sandybrown\",\n",
        "          \"darkmagenta\",\n",
        "          \"forestgreen\",\n",
        "          \"greenyellow\",\n",
        "          \"saddlebrown\",\n",
        "          \"springgreen\",\n",
        "          \"yellowgreen\",\n",
        "          \"darkseagreen\",\n",
        "          \"midnightblue\",\n",
        "          \"darkgoldenrod\",\n",
        "          \"darkslateblue\",\n",
        "          \"darkslategray\",\n",
        "          \"darkslategrey\",\n",
        "          \"darkturquoise\",\n",
        "          \"rebeccapurple\",\n",
        "          \"cornflowerblue\",\n",
        "          \"darkolivegreen\",\n",
        "          \"mediumseagreen\",\n",
        "          \"mediumslateblue\",\n",
        "          \"mediumspringgreen\"]"
      ]
    },
    {
      "cell_type": "code",
      "execution_count": null,
      "metadata": {},
      "outputs": [],
      "source": [
        "bar_colors = choices(colors, k=len(df_pov_state))"
      ]
    },
    {
      "cell_type": "code",
      "execution_count": null,
      "metadata": {},
      "outputs": [],
      "source": [
        "# Create labels for legend:\n",
        "state_rate = zip(pov_states, pov_rate)\n",
        "labels_state_rate = [f\"{state}: {round(rate, 2)}%\" for state, rate in state_rate]"
      ]
    },
    {
      "cell_type": "markdown",
      "metadata": {},
      "source": [
        "##### **_w/Matplotlib and descriptive legend:_**"
      ]
    },
    {
      "cell_type": "code",
      "execution_count": null,
      "metadata": {},
      "outputs": [],
      "source": [
        "fig, ax = plt.subplots(figsize=(17, 11))\n",
        "\n",
        "ax.bar(x=pov_states,\n",
        "       height=pov_rate,\n",
        "       label=labels_state_rate,\n",
        "       color=bar_colors,\n",
        "       width=0.5)\n",
        "\n",
        "ax.set_title(\"Poverty Rates: US States\", fontsize=36, weight='bold')\n",
        "ax.set_xlabel(\"States\", fontsize=18)\n",
        "ax.set_ylabel(\"Poverty Rate Percentage\", fontsize=18)\n",
        "\n",
        "plt.legend(ncol=2,\n",
        "           title=\"State: Poverty Rate\",\n",
        "           fontsize='medium',\n",
        "           bbox_to_anchor=(1.05, 1))\n",
        "\n",
        "plt.xticks(rotation=90)\n",
        "\n",
        "plt.show()"
      ]
    },
    {
      "cell_type": "markdown",
      "metadata": {},
      "source": [
        "#### **_Analysis:_**"
      ]
    },
    {
      "cell_type": "code",
      "execution_count": null,
      "metadata": {},
      "outputs": [],
      "source": [
        "df_pov_state.describe()"
      ]
    },
    {
      "cell_type": "markdown",
      "metadata": {},
      "source": [
        "Which state has the highest poverty rate? \n",
        "\n",
        "- Mississippi (MS): $26.88\\%$\n",
        "\n",
        "Which state has the lowest poverty rate?\n",
        "\n",
        "- New Jersey (NJ): $8.16\\%$\n",
        "\n",
        "Middling:\n",
        "\n",
        "- Indiana (IN): $15.5\\%$"
      ]
    },
    {
      "cell_type": "markdown",
      "metadata": {},
      "source": [
        "---"
      ]
    },
    {
      "cell_type": "markdown",
      "metadata": {
        "id": "GhUibVz5z4sn"
      },
      "source": [
        "# **_Chart the High School Graduation Rate by US State_**\n",
        "\n",
        "Show the High School Graduation Rate in ascending order of US States.\n",
        "\n",
        "Which state has the lowest high school graduation rate?\n",
        "\n",
        "Which state has the highest?"
      ]
    },
    {
      "cell_type": "markdown",
      "metadata": {},
      "source": [
        "### **_Do the exact same as above:_**"
      ]
    },
    {
      "cell_type": "markdown",
      "metadata": {},
      "source": [
        "#### **_Clean/aggregate new dataframe:_**"
      ]
    },
    {
      "cell_type": "code",
      "execution_count": null,
      "metadata": {},
      "outputs": [],
      "source": [
        "df_pct_completed_hs.columns"
      ]
    },
    {
      "cell_type": "code",
      "execution_count": null,
      "metadata": {},
      "outputs": [],
      "source": [
        "df_pct_completed_hs.dtypes"
      ]
    },
    {
      "cell_type": "code",
      "execution_count": null,
      "metadata": {},
      "outputs": [],
      "source": [
        "for i in df_pct_completed_hs.percent_completed_hs:\n",
        "    print(i)"
      ]
    },
    {
      "cell_type": "code",
      "execution_count": null,
      "metadata": {},
      "outputs": [],
      "source": [
        "df_pct_completed_hs[\"percent_completed_hs\"] = df_pct_completed_hs[\"percent_completed_hs\"].replace(\"-\", \"0\")"
      ]
    },
    {
      "cell_type": "code",
      "execution_count": null,
      "metadata": {},
      "outputs": [],
      "source": [
        "df_pct_completed_hs[\"percent_completed_hs\"] = pd.to_numeric(df_pct_completed_hs[\"percent_completed_hs\"])"
      ]
    },
    {
      "cell_type": "code",
      "execution_count": null,
      "metadata": {},
      "outputs": [],
      "source": [
        "df_pct_completed_hs = df_pct_completed_hs[df_pct_completed_hs[\"percent_completed_hs\"] != 0]"
      ]
    },
    {
      "cell_type": "code",
      "execution_count": null,
      "metadata": {},
      "outputs": [],
      "source": [
        "# df_pct_completed_hs"
      ]
    },
    {
      "cell_type": "code",
      "execution_count": null,
      "metadata": {},
      "outputs": [],
      "source": [
        "df_hs_state = df_pct_completed_hs.groupby(\"Geographic Area\")[\"percent_completed_hs\"].mean().reset_index()\n",
        "\n",
        "# Or:\n",
        "# df_hs_state = df_pct_completed_hs.groupby(\"Geographic Area\").agg({\"percent_completed_hs\": 'mean'}).reset_index()"
      ]
    },
    {
      "cell_type": "code",
      "execution_count": null,
      "metadata": {},
      "outputs": [],
      "source": [
        "# df_hs_state\n",
        "# df_pct_completed_hs\n",
        "# percent_completed_hs\n"
      ]
    },
    {
      "cell_type": "code",
      "execution_count": null,
      "metadata": {},
      "outputs": [],
      "source": [
        "df_hs_state.sort_values(by=\"percent_completed_hs\", inplace=True, ascending=True)\n",
        "df_hs_state.reset_index(inplace=True, drop=True)"
      ]
    },
    {
      "cell_type": "code",
      "execution_count": null,
      "metadata": {},
      "outputs": [],
      "source": [
        "# df_hs_state"
      ]
    },
    {
      "cell_type": "markdown",
      "metadata": {},
      "source": [
        "#### **_Plot:_**"
      ]
    },
    {
      "cell_type": "code",
      "execution_count": null,
      "metadata": {},
      "outputs": [],
      "source": [
        "colors = [\"black\",\n",
        "          \"blue\",\n",
        "          \"brown\",\n",
        "          \"chocolate\",\n",
        "          \"cornflowerblue\",\n",
        "          \"crimson\",\n",
        "          \"darkblue\",\n",
        "          \"darkcyan\",\n",
        "          \"darkgoldenrod\",\n",
        "          \"darkgreen\",\n",
        "          \"darkkhaki\",\n",
        "          \"darkmagenta\",\n",
        "          \"darkolivegreen\",\n",
        "          \"darkorange\",\n",
        "          \"darkorchid\",\n",
        "          \"darkred\",\n",
        "          \"darksalmon\",\n",
        "          \"darkseagreen\",\n",
        "          \"darkslateblue\",\n",
        "          \"darkslategray\",\n",
        "          \"darkslategrey\",\n",
        "          \"darkturquoise\",\n",
        "          \"darkviolet\",\n",
        "          \"deeppink\",\n",
        "          \"dimgray\",\n",
        "          \"dodgerblue\",\n",
        "          \"firebrick\",\n",
        "          \"forestgreen\",\n",
        "          \"goldenrod\",\n",
        "          \"green\",\n",
        "          \"greenyellow\",\n",
        "          \"indigo\",\n",
        "          \"lightgreen\",\n",
        "          \"limegreen\",\n",
        "          \"maroon\",\n",
        "          \"mediumblue\",\n",
        "          \"mediumseagreen\",\n",
        "          \"mediumslateblue\",\n",
        "          \"mediumspringgreen\",\n",
        "          \"midnightblue\",\n",
        "          \"navy\",\n",
        "          \"olive\",\n",
        "          \"olivedrab\",\n",
        "          \"palegreen\",\n",
        "          \"peru\",\n",
        "          \"purple\",\n",
        "          \"rebeccapurple\",\n",
        "          \"rosybrown\",\n",
        "          \"royalblue\",\n",
        "          \"saddlebrown\",\n",
        "          \"sandybrown\",\n",
        "          \"seagreen\",\n",
        "          \"sienna\",\n",
        "          \"slateblue\",\n",
        "          \"springgreen\",\n",
        "          \"steelblue\",\n",
        "          \"yellowgreen\"]"
      ]
    },
    {
      "cell_type": "code",
      "execution_count": null,
      "metadata": {},
      "outputs": [],
      "source": [
        "states = df_hs_state[\"Geographic Area\"]\n",
        "\n",
        "grad = df_hs_state[\"percent_completed_hs\"]\n",
        "\n",
        "# Create labels for legend:\n",
        "state_grad = zip(states, grad)\n",
        "labels_state_grad = [f\"{state}: {round(grad, 2)}%\" for state, grad in state_grad]"
      ]
    },
    {
      "cell_type": "code",
      "execution_count": null,
      "metadata": {},
      "outputs": [],
      "source": [
        "fig, ax = plt.subplots(figsize=(17, 11))\n",
        "\n",
        "bar_colors = choices(colors, k=len(df_hs_state))\n",
        "\n",
        "ax.bar(x=states,\n",
        "       height=grad,\n",
        "       label=labels_state_grad,\n",
        "       color=bar_colors,\n",
        "       width=0.5)\n",
        "\n",
        "ax.set_title(\"High School Graduation Rate:\\nUS States\", fontsize=36, weight='bold')\n",
        "ax.set_xlabel(\"States\", fontsize=18)\n",
        "ax.set_ylabel(\"High School Graduation Rate\", fontsize=18)\n",
        "\n",
        "plt.legend(ncol=2,\n",
        "           title=\"State: HS Grad Rate\",\n",
        "           fontsize='medium',\n",
        "           bbox_to_anchor=(1.05, 1))\n",
        "\n",
        "plt.xticks(rotation=90)\n",
        "\n",
        "plt.show()"
      ]
    },
    {
      "cell_type": "code",
      "execution_count": null,
      "metadata": {},
      "outputs": [],
      "source": [
        "df_pov_state.describe()"
      ]
    },
    {
      "cell_type": "markdown",
      "metadata": {},
      "source": [
        "#### **_Analysis:_**"
      ]
    },
    {
      "cell_type": "markdown",
      "metadata": {},
      "source": [
        "Which state has the lowest high school graduation rate?\n",
        "\n",
        "- Texas (TX): $76.77\\%$\n",
        "\n",
        "Which state has the highest?\n",
        "\n",
        "- Massachusetts (MA): $92.4\\%$\n",
        "\n",
        "Middle:\n",
        "\n",
        "- Ohio (OH): $88.34\\%$"
      ]
    },
    {
      "cell_type": "markdown",
      "metadata": {},
      "source": [
        "---\n",
        "---"
      ]
    },
    {
      "cell_type": "markdown",
      "metadata": {
        "id": "ENGTEmPQ0Rvt"
      },
      "source": [
        "# **_Visualise the Relationship between Poverty Rates and High School Graduation Rates_**\n",
        "\n",
        "#### Create a line chart with two y-axes to show if the ratio of poverty and high school graduation move together.  "
      ]
    },
    {
      "cell_type": "markdown",
      "metadata": {},
      "source": [
        "#### **_Create DF with poverty and high school data merged on State names:_**"
      ]
    },
    {
      "cell_type": "code",
      "execution_count": null,
      "metadata": {},
      "outputs": [],
      "source": [
        "df_state_hs_poverty = df_hs_state.merge(df_pov_state, on='Geographic Area')"
      ]
    },
    {
      "cell_type": "code",
      "execution_count": null,
      "metadata": {},
      "outputs": [],
      "source": [
        "df_state_hs_poverty"
      ]
    },
    {
      "cell_type": "markdown",
      "metadata": {},
      "source": [
        "#### **_Inspect date:_**"
      ]
    },
    {
      "cell_type": "code",
      "execution_count": null,
      "metadata": {},
      "outputs": [],
      "source": [
        "for i in range(len(df_state_hs_poverty)):\n",
        "    state = df_state_hs_poverty['Geographic Area'][i]\n",
        "    print(state)\n",
        "    state_grad_rate = df_state_hs_poverty['percent_completed_hs'][i]\n",
        "    print(state_grad_rate)\n",
        "    state_pov_rate = df_state_hs_poverty['poverty_rate'][i]\n",
        "    print(state_pov_rate)"
      ]
    },
    {
      "cell_type": "markdown",
      "metadata": {},
      "source": [
        "#### **_Create column for state names for clarity on plot:_**"
      ]
    },
    {
      "cell_type": "code",
      "execution_count": null,
      "metadata": {},
      "outputs": [],
      "source": [
        "state_dict = {\"TX\": \"Texas\", \"MS\": \"Mississippi\", \"GA\": \"Georgia\", \"LA\": \"Louisiana\", \"AR\": \"Arkansas\", \"AL\": \"Alabama\", \"AZ\": \"Arizona\", \"SC\": \"South Carolina\", \"TN\": \"Tennessee\", \"NM\": \"New Mexico\", \"CA\": \"California\", \"KY\": \"Kentucky\", \"WV\": \"West Virginia\", \"OK\": \"Oklahoma\", \"NC\": \"North Carolina\", \"MO\": \"Missouri\", \"VA\": \"Virginia\", \"AK\": \"Alaska\", \"ID\": \"Idaho\", \"FL\": \"Florida\", \"IN\": \"Indiana\", \"SD\": \"South Dakota\", \"ND\": \"North Dakota\", \"OR\": \"Oregon\", \"WA\": \"Washington\", \"OH\": \"Ohio\", \"KS\": \"Kansas\", \"NV\": \"Nevada\", \"MD\": \"Maryland\", \"IL\": \"Illinois\", \"DE\": \"Delaware\", \"RI\": \"Rhode Island\", \"PA\": \"Pennsylvania\", \"MI\": \"Michigan\", \"DC\": \"District of Columbia\", \"MN\": \"Minnesota\", \"VT\": \"Vermont\", \"NE\": \"Nebraska\", \"CO\": \"Colorado\", \"IA\": \"Iowa\", \"WI\": \"Wisconsin\", \"MT\": \"Montana\", \"NY\": \"New York\", \"NH\": \"New Hampshire\", \"NJ\": \"New Jersey\", \"ME\": \"Maine\", \"CT\": \"Connecticut\", \"UT\": \"Utah\", \"HI\": \"Hawaii\", \"WY\": \"Wyoming\", \"MA\": \"Massachusetts\"}\n",
        "\n",
        "state_names= np.array([state_dict.get(i) for i in df_state_hs_poverty['Geographic Area']],\n",
        "                      dtype='object')\n",
        "\n",
        "df_state_hs_poverty['State_Names'] = state_names"
      ]
    },
    {
      "cell_type": "markdown",
      "metadata": {},
      "source": [
        "#### **_Do the thing:_**"
      ]
    },
    {
      "cell_type": "code",
      "execution_count": null,
      "metadata": {},
      "outputs": [],
      "source": [
        "# Create axes:\n",
        "fig, ax1 = plt.subplots(figsize=(25, 11))\n",
        "ax2 = ax1.twinx()\n",
        "\n",
        "# Extract data from DataFrame, using state names instead of abbreviations:\n",
        "states = df_state_hs_poverty['State_Names']\n",
        "state_grad_rates = np.round(df_state_hs_poverty['percent_completed_hs'], 2)\n",
        "state_pov_rates = np.round(df_state_hs_poverty['poverty_rate'], 2)\n",
        "\n",
        "# Axes colors (find good complements):\n",
        "ax1_color = 'steelblue'\n",
        "ax2_color = 'firebrick'\n",
        "\n",
        "# Plot left y-axis, Graduation Rate:\n",
        "ax1.plot(states,\n",
        "         state_grad_rates,\n",
        "         label=f\"{states}: {state_grad_rates}\",\n",
        "         linewidth=2,\n",
        "         linestyle='-',\n",
        "         marker='o',\n",
        "         color=ax1_color)\n",
        "\n",
        "# Plot right y-axis, Poverty Rate:         \n",
        "ax2.plot(states,\n",
        "         state_pov_rates,\n",
        "         label=f\"{states}: {state_pov_rates}\",\n",
        "         linewidth=2.5,\n",
        "         linestyle=':',\n",
        "         marker='o',\n",
        "         color=ax2_color)\n",
        "\n",
        "# Make a title:\n",
        "title = \"Dual Y-Axis Plot:\\n\"\n",
        "title += \"United States, by State ~2015:\\n\"\n",
        "title += \"High School Graduation Rate vs. Poverty Rate\\n\"\n",
        "title += \"(Source: U.S. Bureau of the Census)\"\n",
        "ax1.set_title(title, fontsize=24, weight='bold')\n",
        "\n",
        "\n",
        "# Make x-axis label:\n",
        "ax1.set_xlabel(\"United States: States\", fontsize=20, weight='bold')\n",
        "\n",
        "# Make y-axes labels:\n",
        "ax1.set_ylabel(\"HS Graduation Percentage (age 25+)\",\n",
        "                fontsize=14,\n",
        "                weight='bold')\n",
        "\n",
        "ax2.set_ylabel(\"Poverty Rate Percentage\",\n",
        "               fontsize=14,\n",
        "               weight='bold')\n",
        "\n",
        "# Customize each axes grid for ease of plot visualization:\n",
        "ax1.grid(color=ax1_color, linestyle='-', alpha=0.7)\n",
        "ax1.yaxis.label.set_color(ax1_color)\n",
        "ax1.tick_params(axis='y', colors=ax1_color)\n",
        "\n",
        "ax2.grid(color=ax2_color, linestyle=':', alpha=0.7)\n",
        "ax2.yaxis.label.set_color(ax2_color)\n",
        "ax2.tick_params(axis='y', colors=ax2_color)\n",
        "\n",
        "# Rotate x-axis tick labels:\n",
        "ax1.set_xticks(states)\n",
        "ax1.set_xticklabels(states, rotation=90)\n",
        "\n",
        "# Show the thing:\n",
        "plt.show()"
      ]
    },
    {
      "cell_type": "markdown",
      "metadata": {},
      "source": [
        "#### **_Analysis:_**"
      ]
    },
    {
      "cell_type": "markdown",
      "metadata": {},
      "source": [
        "There is a general trend when viewing the Graduation and Poverty data in this dual plot:\n",
        "\n",
        "-   The upward graduation rate trend is in stark contrast to a trend of falling poverty rates.\n",
        "\n",
        "-   My conclusion is that states with higher high school graduation rates tend to have lower poverty.\n",
        "\n",
        "There are specific exceptions to this contrasting trend, but the general pattern is obvious."
      ]
    },
    {
      "cell_type": "markdown",
      "metadata": {},
      "source": [
        "<font size=1>\n",
        "\n",
        "```python\n",
        "scat_cat = px.scatter(data_frame=cat_merged_df,\n",
        "                      x='App',\n",
        "                      y='Installs',\n",
        "                      title='Category Concentration',\n",
        "                      size='App',\n",
        "                      hover_name=cat_merged_df.index,\n",
        "                      color='Installs')\n",
        "scat_cat.update_layout(xaxis_title='Number of Apps (Lower=More Concentrated)',\n",
        "                       yaxis_title='Installs',\n",
        "                       yaxis=dict(type='log'))\n",
        "\n",
        "scat_cat.show()\n",
        "\n",
        "# My thought: shouldn't we be anaylyzing the ratio, not the raw data?\n",
        "\n",
        "# Calculate the ratio of apps per category to installs\n",
        "cat_merged_df['Ratio'] = cat_merged_df['App'] / cat_merged_df['Installs']\n",
        "\n",
        "scat_cat = px.scatter(data_frame=cat_merged_df,\n",
        "                      x='Ratio',\n",
        "                      y='Installs',\n",
        "                      title='Category Concentration',\n",
        "                      size='App',\n",
        "                      hover_name=cat_merged_df.index,\n",
        "                      color='Installs')\n",
        "scat_cat.update_layout(xaxis_title='Ratio of Apps to Installs (Higher=More Concentrated)',\n",
        "                       yaxis_title='Installs',\n",
        "                       yaxis=dict(type='log'))\n",
        "\n",
        "scat_cat.show()\n",
        "```\n",
        "\n",
        "</font>"
      ]
    },
    {
      "cell_type": "markdown",
      "metadata": {},
      "source": [
        "---"
      ]
    },
    {
      "cell_type": "markdown",
      "metadata": {
        "id": "Zavx_8PL1Jy9"
      },
      "source": [
        "#### Now use a Seaborn .jointplot() with a Kernel Density Estimate (KDE) and/or scatter plot to visualise the same relationship"
      ]
    },
    {
      "cell_type": "code",
      "execution_count": null,
      "metadata": {},
      "outputs": [],
      "source": [
        "df_state_hs_poverty"
      ]
    },
    {
      "cell_type": "markdown",
      "metadata": {},
      "source": [
        "#### **_Seaborn `joinplot()`: `kind=scatter` and `hue` set:_**"
      ]
    },
    {
      "cell_type": "code",
      "execution_count": null,
      "metadata": {},
      "outputs": [],
      "source": [
        "with sns.axes_style('darkgrid'):\n",
        "    grad_pov = sns.jointplot(\n",
        "        df_state_hs_poverty,\n",
        "        x='percent_completed_hs',\n",
        "        y='poverty_rate',\n",
        "        height=7,\n",
        "        kind='scatter',\n",
        "        hue='percent_completed_hs',\n",
        "        legend='brief'\n",
        "    ) \n",
        "\n",
        "sup_title = \"Joint SCATTER Plot:\\nState by State Analysis of\\n\"\n",
        "sup_title += \"HIGH SCHOOL GRADUATION RATE (HUE variable)\\nvs.\\nPOVERTY RATE\\n\"\n",
        "sup_title += \"[U.S. Bureau of the Census ~2015]\"\n",
        "\n",
        "grad_pov.figure.suptitle(sup_title,\n",
        "                         size=14,\n",
        "                         weight='bold')\n",
        "grad_pov.figure.tight_layout()\n",
        "# grad_pov.figure.subplots_adjust(top=0.865)\n",
        "\n",
        "grad_pov.ax_joint.set_xlabel('High School Graduation Rate',\n",
        "                             size=12, \n",
        "                             weight='bold')\n",
        "grad_pov.ax_joint.set_ylabel('Poverty Rate',\n",
        "                             size=12, \n",
        "                             weight='bold')\n",
        "\n",
        "plt.show()"
      ]
    },
    {
      "cell_type": "markdown",
      "metadata": {},
      "source": [
        "#### **_Seaborn `joinplot()`: `kind=scatter` w/`kdeplot()` & `rugplot()`:_**"
      ]
    },
    {
      "cell_type": "code",
      "execution_count": null,
      "metadata": {},
      "outputs": [],
      "source": [
        "with sns.axes_style('darkgrid'):\n",
        "    grad_pov = sns.jointplot(\n",
        "        df_state_hs_poverty,\n",
        "        x='percent_completed_hs',\n",
        "        y='poverty_rate',\n",
        "        height=7,\n",
        "        kind='scatter',\n",
        "        color='darkcyan',\n",
        "    ) \n",
        "\n",
        "grad_pov.plot_joint(sns.kdeplot, color=\"darkorange\", zorder=0, levels=6)\n",
        "grad_pov.plot_marginals(sns.rugplot, color=\"darkorange\", height=-.15, clip_on=False)\n",
        "\n",
        "sup_title = \"Joint SCATTER Plot w/KDE and RUGPLOTS:\\n\"\n",
        "sup_title += \"State by State Analysis of\\n\"\n",
        "sup_title += \"HIGH SCHOOL GRADUATION RATE\\nvs.\\nPOVERTY RATE\\n\"\n",
        "sup_title += \"[U.S. Bureau of the Census ~2015]\"\n",
        "\n",
        "grad_pov.figure.suptitle(sup_title,\n",
        "                         size=14,\n",
        "                         weight='bold')\n",
        "grad_pov.figure.tight_layout()\n",
        "\n",
        "grad_pov.ax_joint.set_xlabel('High School Graduation Rate',\n",
        "                             size=12, \n",
        "                             weight='bold')\n",
        "grad_pov.ax_joint.set_ylabel('Poverty Rate',\n",
        "                             size=12, \n",
        "                             weight='bold')\n",
        "\n",
        "plt.show()"
      ]
    },
    {
      "cell_type": "markdown",
      "metadata": {},
      "source": [
        "#### **_Seaborn `joinplot()`: `kind=kde` w/`rugplot()`:_**"
      ]
    },
    {
      "cell_type": "code",
      "execution_count": null,
      "metadata": {},
      "outputs": [],
      "source": [
        "with sns.axes_style('darkgrid'):\n",
        "    grad_pov = sns.jointplot(\n",
        "        df_state_hs_poverty,\n",
        "        x='percent_completed_hs',\n",
        "        y='poverty_rate',\n",
        "        height=7,\n",
        "        kind='kde',\n",
        "        color='cadetblue',\n",
        "    ) \n",
        "\n",
        "grad_pov.plot_marginals(sns.rugplot, color=\"darkorange\", height=-.15, clip_on=False)\n",
        "\n",
        "sup_title = \"Joint KDE Plot w/RUGPLOT:\\n\"\n",
        "sup_title += \"State by State Analysis of\\n\"\n",
        "sup_title += \"HIGH SCHOOL GRADUATION RATE\\nvs.\\nPOVERTY RATE\\n\"\n",
        "sup_title += \"[U.S. Bureau of the Census ~2015]\"\n",
        "\n",
        "grad_pov.figure.suptitle(sup_title,\n",
        "                         size=14,\n",
        "                         weight='bold')\n",
        "grad_pov.figure.tight_layout()\n",
        "\n",
        "grad_pov.ax_joint.set_xlabel('High School Graduation Rate',\n",
        "                             size=12, \n",
        "                             weight='bold')\n",
        "grad_pov.ax_joint.set_ylabel('Poverty Rate',\n",
        "                             size=12, \n",
        "                             weight='bold')\n",
        "\n",
        "plt.show()"
      ]
    },
    {
      "cell_type": "markdown",
      "metadata": {},
      "source": [
        "#### **_Analysis:_**"
      ]
    },
    {
      "cell_type": "markdown",
      "metadata": {},
      "source": [
        "The heaviest clustering is around states with high graduation rates and low poverty rates.\n",
        "\n",
        "This means there are more states with this combination of positive attributes, and that there are fewer states that have a combination of the more upsetting high poverty and low graduation rates. I would guess, and we'll see upon further analysis, that the instance of more violence upon civilians by police may be more concentrated in these states that have lower grad rates and high poverty rates...we'll see..."
      ]
    },
    {
      "cell_type": "markdown",
      "metadata": {},
      "source": [
        "---"
      ]
    },
    {
      "cell_type": "markdown",
      "metadata": {
        "id": "PXNFQmHl10Fx"
      },
      "source": [
        "#### Seaborn's `.lmplot()` or `.regplot()` to show a linear regression between the poverty ratio and the high school graduation ratio. "
      ]
    },
    {
      "cell_type": "code",
      "execution_count": null,
      "metadata": {
        "id": "F1xrjFgT1znI"
      },
      "outputs": [],
      "source": [
        "plt.figure(figsize=(11, 7), dpi=200)\n",
        "\n",
        "with sns.axes_style('darkgrid'):\n",
        "    sns.regplot(data=df_state_hs_poverty,\n",
        "                x='percent_completed_hs',\n",
        "                y='poverty_rate',\n",
        "                lowess=True,\n",
        "                scatter_kws={'color': 'steelblue', 'alpha': 0.65},\n",
        "                line_kws={'color': 'tomato', 'alpha': 0.85})\n",
        "\n",
        "title = \"Seaborn REGPLOT: Locally Weight Linear Regression\\n\"\n",
        "title += \"Distribution:\\nPOVERTY RATE on HS GRADUATION RATE\\n\"\n",
        "title += \"United States: State by State\\n(via Census ~2015)\"\n",
        "plt.title(title, size=16, weight='bold')\n",
        "\n",
        "plt.xlabel(\"HS Graduation Rate\", size=12, weight='bold')\n",
        "plt.ylabel(\"Poverty Rate\", size=12, weight='bold')\n",
        "\n",
        "plt.show()"
      ]
    },
    {
      "cell_type": "code",
      "execution_count": null,
      "metadata": {},
      "outputs": [],
      "source": [
        "from random import choices\n",
        "\n",
        "seaborn_markers = ['o', '^', 'v', '<', '>', 's', 'D', 'd', 'p', 'h', 'H', '8',\n",
        "                   'X', '*', '.', 'P', 'x', '+', '1', '2', '3', '4', '|', '_']\n",
        "\n",
        "plot_markers = choices(seaborn_markers, \n",
        "                       k=len(df_state_hs_poverty['State_Names']))                   "
      ]
    },
    {
      "cell_type": "code",
      "execution_count": null,
      "metadata": {},
      "outputs": [],
      "source": [
        "with sns.axes_style('darkgrid'):\n",
        "    ax = sns.lmplot(data=df_state_hs_poverty,\n",
        "                    x='percent_completed_hs',\n",
        "                    y='poverty_rate',\n",
        "                    hue='State_Names',\n",
        "                    height=10,\n",
        "                    legend=True,\n",
        "                    aspect=1.25,\n",
        "                    markers=plot_markers,\n",
        "                    fit_reg=True,\n",
        "                    scatter_kws={'alpha': 0.95},\n",
        "                    facet_kws={'legend_out': True})\n",
        "\n",
        "sns.move_legend(ax,\n",
        "                1, \n",
        "                title='States (US)',\n",
        "                title_fontsize=14,\n",
        "                bbox_to_anchor=(.89, .99), \n",
        "                ncols=3, \n",
        "                frameon=True,\n",
        "                fancybox=True,\n",
        "                framealpha=.35)               \n",
        "\n",
        "title = \"Seaborn LMPLOT: SCATTER w/State Names Legend\\n\"\n",
        "title += \"Distribution:\\nPOVERTY RATE on HS GRADUATION RATE\\n\"\n",
        "title += \"United States: State by State\\n(via Census ~2015)\"\n",
        "\n",
        "plt.title(title, size=16, weight='bold')\n",
        "\n",
        "plt.xlabel(\"HS Graduation Rate\", size=12, weight='bold')\n",
        "plt.ylabel(\"Poverty Rate\", size=12, weight='bold')\n",
        "\n",
        "plt.show()"
      ]
    },
    {
      "cell_type": "code",
      "execution_count": null,
      "metadata": {},
      "outputs": [],
      "source": [
        "with sns.axes_style('darkgrid'):\n",
        "    sns.lmplot(\n",
        "        data=df_state_hs_poverty,\n",
        "        x='percent_completed_hs',\n",
        "        y='poverty_rate',\n",
        "        height=6,\n",
        "        lowess=True,\n",
        "        aspect=1.5,\n",
        "        scatter_kws={'alpha': 0.75, 'color': 'darkorange'},\n",
        "        line_kws={'alpha': .8, 'linewidth': 3, 'color': 'teal'},\n",
        "    )\n",
        "\n",
        "title = \"Seaborn LMPLOT: Locally Weight Linear Regression\\n\"\n",
        "title += \"Distribution:\\nPOVERTY RATE on HS GRADUATION RATE\\n\"\n",
        "title += \"United States: State by State\\n(via Census ~2015)\"\n",
        "plt.title(title, size=16, weight='bold')\n",
        "\n",
        "plt.xlabel(\"HS Graduation Rate\", size=12, weight='bold')\n",
        "plt.ylabel(\"Poverty Rate\", size=12, weight='bold')\n",
        "\n",
        "plt.show()"
      ]
    },
    {
      "cell_type": "code",
      "execution_count": null,
      "metadata": {},
      "outputs": [],
      "source": [
        "with sns.axes_style('darkgrid'):\n",
        "    sns.lmplot(\n",
        "        data=df_state_hs_poverty,\n",
        "        x='percent_completed_hs',\n",
        "        y='poverty_rate',\n",
        "        height=6,\n",
        "        logx=True,\n",
        "        aspect=1.5,\n",
        "        fit_reg=True,\n",
        "        scatter_kws={'alpha': 0.75, 'color': 'teal'},\n",
        "        line_kws={'alpha': .65, 'linewidth': 3, 'color': 'darkorange'},\n",
        "    )\n",
        "\n",
        "title = \"Seaborn LMPLOT: $y \\\\sim log(x)$\\n\"\n",
        "title += \"Distribution:\\nPOVERTY RATE on HS GRADUATION RATE\\n\"\n",
        "title += \"United States: State by State\\n(via Census ~2015)\"\n",
        "plt.title(title, size=16, weight='bold')\n",
        "\n",
        "plt.xlabel(\"HS Graduation Rate\", size=12, weight='bold')\n",
        "plt.ylabel(\"Poverty Rate\", size=12, weight='bold')    \n",
        "\n",
        "plt.show()"
      ]
    },
    {
      "cell_type": "markdown",
      "metadata": {},
      "source": [
        "#### **_Analysis:_**"
      ]
    },
    {
      "cell_type": "markdown",
      "metadata": {},
      "source": [
        "Based on the fact that all lot of the points in the scatterplots are close to the linear regression line plot, it appears there is a relationship between poverty level and high school graduation level."
      ]
    },
    {
      "cell_type": "markdown",
      "metadata": {},
      "source": [
        "---\n",
        "---"
      ]
    },
    {
      "cell_type": "markdown",
      "metadata": {
        "id": "QJTbZZKg0p6i"
      },
      "source": [
        "# **_Create a Bar Chart..._**\n",
        "\n",
        "### **_...with Subsections Showing the Racial Makeup of Each US State_**\n",
        "\n",
        "Visualise the share of the white, black, hispanic, asian and native american population in each US State using a bar chart with sub sections. "
      ]
    },
    {
      "cell_type": "markdown",
      "metadata": {},
      "source": [
        "---"
      ]
    },
    {
      "cell_type": "markdown",
      "metadata": {},
      "source": [
        "#### **_Inspect and transform `df_share_race_city`:_**"
      ]
    },
    {
      "cell_type": "code",
      "execution_count": null,
      "metadata": {},
      "outputs": [],
      "source": [
        "# Create copy of original DF in case we make a mistake:\n",
        "df_race_city = df_share_race_city.copy()"
      ]
    },
    {
      "cell_type": "code",
      "execution_count": null,
      "metadata": {},
      "outputs": [],
      "source": [
        "print(df_race_city.columns)\n",
        "print(df_race_city.dtypes)"
      ]
    },
    {
      "cell_type": "code",
      "execution_count": null,
      "metadata": {},
      "outputs": [],
      "source": [
        "df_race_city"
      ]
    },
    {
      "cell_type": "code",
      "execution_count": null,
      "metadata": {},
      "outputs": [],
      "source": [
        "race_cols = ['share_white', \n",
        "             'share_black', \n",
        "             'share_native_american', \n",
        "             'share_asian', \n",
        "             'share_hispanic']\n",
        "\n",
        "# Inspect all columns to see if data has non-digit strings:\n",
        "for col in race_cols:\n",
        "    for i in df_race_city[col]:\n",
        "        if not i.isdigit():\n",
        "            print(col)\n",
        "            break"
      ]
    },
    {
      "cell_type": "code",
      "execution_count": null,
      "metadata": {},
      "outputs": [],
      "source": [
        "# Entries w/non-digit strings are meant to be '0', let's replace them:\n",
        "for col in race_cols:\n",
        "    df_race_city[col] = df_race_city[col].replace(r'[^\\d\\.]', '0', regex=True)"
      ]
    },
    {
      "cell_type": "code",
      "execution_count": null,
      "metadata": {},
      "outputs": [],
      "source": [
        "# Convert data to numeric values:\n",
        "for col in race_cols:\n",
        "    df_race_city[col] = pd.to_numeric(df_race_city[col]) "
      ]
    },
    {
      "cell_type": "code",
      "execution_count": null,
      "metadata": {},
      "outputs": [],
      "source": [
        "# Inspect the cleaned, transformed DF:\n",
        "print(df_race_city.dtypes)\n",
        "print(df_race_city.shape)\n",
        "df_race_city.describe()"
      ]
    },
    {
      "cell_type": "code",
      "execution_count": null,
      "metadata": {},
      "outputs": [],
      "source": [
        "# Drop City column so next cell will work:\n",
        "df_race_city = df_race_city.drop(columns=['City'])"
      ]
    },
    {
      "cell_type": "code",
      "execution_count": null,
      "metadata": {},
      "outputs": [],
      "source": [
        "df_race_state = df_race_city.groupby('Geographic area').mean().reset_index()"
      ]
    },
    {
      "cell_type": "code",
      "execution_count": null,
      "metadata": {},
      "outputs": [],
      "source": [
        "# Inspect new DF:\n",
        "display(df_race_state)\n",
        "print(df_race_state.dtypes)\n",
        "print(df_race_state.shape)\n",
        "df_race_state.describe()"
      ]
    },
    {
      "cell_type": "code",
      "execution_count": null,
      "metadata": {},
      "outputs": [],
      "source": [
        "# Rename 'Geographic area' to 'state_abbr':\n",
        "df_race_state.rename({'Geographic area': 'state_abbr'}, axis=1, inplace=True)"
      ]
    },
    {
      "cell_type": "code",
      "execution_count": null,
      "metadata": {},
      "outputs": [],
      "source": [
        "# Add a column with state names:\n",
        "state_dict = {\"TX\": \"Texas\", \"MS\": \"Mississippi\", \"GA\": \"Georgia\", \"LA\": \"Louisiana\", \"AR\": \"Arkansas\", \"AL\": \"Alabama\", \"AZ\": \"Arizona\", \"SC\": \"South Carolina\", \"TN\": \"Tennessee\", \"NM\": \"New Mexico\", \"CA\": \"California\", \"KY\": \"Kentucky\", \"WV\": \"West Virginia\", \"OK\": \"Oklahoma\", \"NC\": \"North Carolina\", \"MO\": \"Missouri\", \"VA\": \"Virginia\", \"AK\": \"Alaska\", \"ID\": \"Idaho\", \"FL\": \"Florida\", \"IN\": \"Indiana\", \"SD\": \"South Dakota\", \"ND\": \"North Dakota\", \"OR\": \"Oregon\", \"WA\": \"Washington\", \"OH\": \"Ohio\", \"KS\": \"Kansas\", \"NV\": \"Nevada\", \"MD\": \"Maryland\", \"IL\": \"Illinois\", \"DE\": \"Delaware\", \"RI\": \"Rhode Island\", \"PA\": \"Pennsylvania\", \"MI\": \"Michigan\", \"DC\": \"District of Columbia\", \"MN\": \"Minnesota\", \"VT\": \"Vermont\", \"NE\": \"Nebraska\", \"CO\": \"Colorado\", \"IA\": \"Iowa\", \"WI\": \"Wisconsin\", \"MT\": \"Montana\", \"NY\": \"New York\", \"NH\": \"New Hampshire\", \"NJ\": \"New Jersey\", \"ME\": \"Maine\", \"CT\": \"Connecticut\", \"UT\": \"Utah\", \"HI\": \"Hawaii\", \"WY\": \"Wyoming\", \"MA\": \"Massachusetts\"}\n",
        "\n",
        "state_names= np.array([state_dict.get(i) for i in df_race_state['state_abbr']],\n",
        "                      dtype='object')\n",
        "\n",
        "df_race_state.insert(1, 'state_name', state_names)"
      ]
    },
    {
      "cell_type": "code",
      "execution_count": null,
      "metadata": {},
      "outputs": [],
      "source": [
        "# Verify the rows each add up to about `100`:\n",
        "df_race_state"
      ]
    },
    {
      "cell_type": "markdown",
      "metadata": {},
      "source": [
        "#### **_The new df `df_race_state` is good to go!_**"
      ]
    },
    {
      "cell_type": "markdown",
      "metadata": {},
      "source": [
        "---"
      ]
    },
    {
      "cell_type": "markdown",
      "metadata": {},
      "source": [
        "#### **_Now the plot:_**\n",
        "\n",
        "Visualise the share of the white, black, hispanic, asian and native american population in each US State using a bar chart with sub sections. "
      ]
    },
    {
      "cell_type": "code",
      "execution_count": null,
      "metadata": {},
      "outputs": [],
      "source": [
        "ax = df_race_state.plot(figsize=(29, 14), \n",
        "                        stacked=True, \n",
        "                        width=0.75,\n",
        "                        kind='bar',\n",
        "                        legend=True,\n",
        "                        xticks=df_race_state.index)\n",
        "\n",
        "ax.set_xticklabels(df_race_state['state_name'])                        \n",
        "\n",
        "\n",
        "title = \"Racial Population Analysis: United States\\n\"\n",
        "title += \"Multicolored Bars Represent\\n100% of Each State's Population\\n\"\n",
        "title += \"[~2015 US Census]\"\n",
        " \n",
        "plt.title(title, size=36, weight='bold')\n",
        "ax.tick_params(axis='x', which='major', labelsize=16)\n",
        "\n",
        "plt.legend(fontsize=20)\n",
        "\n",
        "plt.show()"
      ]
    },
    {
      "cell_type": "markdown",
      "metadata": {},
      "source": [
        "#### **_Analysis:_**"
      ]
    },
    {
      "cell_type": "markdown",
      "metadata": {},
      "source": [
        "**_First of all..._**\n",
        "\n",
        "...the bars are not all equal to 100 -- which probably means:\n",
        "\n",
        "- Taking the average of each column's values throws off the aggregate to 100 -- since we're taking the average along Axis 0 for an aggregate to 100 which would be along Axis 1\n",
        "\n",
        "    - I think the general result should still be representative of the shares represented by each column, but upon a refactor will find a way to even out this phenomenon.\n",
        "\n",
        "Since all the bars are hovering around 100, though, I feel satisfied that the data and this plot are showing a good representation of the share of data for each state.\n",
        "\n",
        "I'll ignore this issue, since it seems negligible/a matter for future fine-tuning, and likely doesn't affect the accuracy of the overall accuracy of the racial breakdown for each state.\n",
        "\n",
        "**_And B..._**\n",
        "\n",
        "We can sort the plots by which percentage of each state is highest for each race for futher analysis, but for now we can clearly which states have the highest population of each race:\n",
        "\n",
        "-   African American: Washington DC\n",
        "\n",
        "-   Caucasian: Maine/New Hampshire/West Virginia\n",
        "\n",
        "-   Asian: Hawaii\n",
        "\n",
        "-   Latino: New Mexico or Texas\n",
        "\n",
        "-   Native American: Alaska"
      ]
    },
    {
      "cell_type": "markdown",
      "metadata": {},
      "source": [
        "---\n",
        "---"
      ]
    },
    {
      "cell_type": "markdown",
      "metadata": {
        "_uuid": "77493cfd86a031612be8fb8d60f27713e74e6d80",
        "id": "K7xvQXkjuRo7"
      },
      "source": [
        "# **_Create Donut Chart..._**\n",
        "\n",
        "### **_...of People Killed by Race_**\n",
        "\n",
        "Hint: Use `.value_counts()`"
      ]
    },
    {
      "cell_type": "markdown",
      "metadata": {},
      "source": [
        "#### **_Data Cleaning and Transformation:_**"
      ]
    },
    {
      "cell_type": "code",
      "execution_count": null,
      "metadata": {},
      "outputs": [],
      "source": [
        "race_counts = df_fatalities['race'].value_counts()\n",
        "\n",
        "# Inspect:\n",
        "# df_fatalities['race'].value_counts().nlargest(10)\n",
        "# df_fatalities['race'].value_counts().nlargest(10).index"
      ]
    },
    {
      "cell_type": "code",
      "execution_count": null,
      "metadata": {
        "id": "1nOafPdy1u9Z"
      },
      "outputs": [],
      "source": [
        "race_counts"
      ]
    },
    {
      "cell_type": "code",
      "execution_count": null,
      "metadata": {},
      "outputs": [],
      "source": [
        "# Replace `0` with `O` (undetermined):\n",
        "df_fatalities['race'] = df_fatalities['race'].replace(0, 'O')"
      ]
    },
    {
      "cell_type": "code",
      "execution_count": null,
      "metadata": {
        "id": "YN3hzJTe1vHJ"
      },
      "outputs": [],
      "source": [
        "race_counts = df_fatalities['race'].value_counts()"
      ]
    },
    {
      "cell_type": "code",
      "execution_count": null,
      "metadata": {},
      "outputs": [],
      "source": [
        "# Now we have one metric for undetermined:\n",
        "race_counts"
      ]
    },
    {
      "cell_type": "code",
      "execution_count": null,
      "metadata": {},
      "outputs": [],
      "source": [
        "# Though, for clarity, let's rename to words rather than abbreviations:\n",
        "race_dict = {'W': 'Caucasian', 'B': 'African American', 'H': 'Latino', \n",
        "             'A': 'Asian American', 'N': 'Native American', 'O': 'Undetermined'}\n",
        "\n",
        "df_fatalities['race'] = df_fatalities['race'].replace(race_dict)"
      ]
    },
    {
      "cell_type": "code",
      "execution_count": null,
      "metadata": {},
      "outputs": [],
      "source": [
        "# Drop the `id` column (we're not working w/relational databases): \n",
        "df_fatalities.drop(columns=['id'], inplace=True)"
      ]
    },
    {
      "cell_type": "code",
      "execution_count": null,
      "metadata": {},
      "outputs": [],
      "source": [
        "# Now create `race_counts` again:\n",
        "race_counts = df_fatalities['race'].value_counts()"
      ]
    },
    {
      "cell_type": "code",
      "execution_count": null,
      "metadata": {},
      "outputs": [],
      "source": [
        "# This is much clearer than before:\n",
        "print(race_counts)\n",
        "print(race_counts.index)\n",
        "print(race_counts.values)"
      ]
    },
    {
      "cell_type": "markdown",
      "metadata": {},
      "source": [
        "---"
      ]
    },
    {
      "cell_type": "markdown",
      "metadata": {},
      "source": [
        "#### **_Create Donut Chart of People Killed by Race:_**\n",
        "\n",
        "_Hint: Use `.value_counts()`_"
      ]
    },
    {
      "cell_type": "code",
      "execution_count": null,
      "metadata": {},
      "outputs": [],
      "source": [
        "from random import choices\n",
        "\n",
        "colors = ['sienna', 'steelblue', 'olivedrab', \n",
        "          'darkslategrey', 'firebrick', 'rebeccapurple']\n",
        "\n",
        "title = \"People Killed by Police in the US by Race, 2015-2017\"\n",
        "\n",
        "fig = px.pie(\n",
        "    labels=race_counts.index,\n",
        "    values=race_counts.values,\n",
        "    title=title,\n",
        "    names=race_counts.index,\n",
        "    hole=0.25,\n",
        "    width=1280,\n",
        "    height=1280,\n",
        "    color_discrete_sequence=colors\n",
        ")\n",
        "\n",
        "fig.update_traces(\n",
        "    textposition='inside',\n",
        "    textfont=dict(family='tahoma', size=16, color='gainsboro'),\n",
        "    textinfo='percent',\n",
        ")\n",
        "\n",
        "fig.update_layout(\n",
        "    title=dict(font=dict(size=36)),\n",
        ")\n",
        "\n",
        "fig.show()"
      ]
    },
    {
      "cell_type": "markdown",
      "metadata": {},
      "source": [
        "---"
      ]
    },
    {
      "cell_type": "markdown",
      "metadata": {},
      "source": [
        "#### **_Analysis:_**"
      ]
    },
    {
      "cell_type": "markdown",
      "metadata": {},
      "source": [
        "In order from highest percentage to lowest:\n",
        "\n",
        "-   Caucasian: $47.4\\%$\n",
        "\n",
        "-   African American: $24.4\\%$\n",
        "\n",
        "-   Latino: $16.7\\%$\n",
        "\n",
        "-   Undetermined: $8.8\\%$\n",
        "\n",
        "-   Asian American: $1.54\\%$\n",
        "\n",
        "-   Native American: $1.22\\%$"
      ]
    },
    {
      "cell_type": "markdown",
      "metadata": {},
      "source": [
        "---\n",
        "---"
      ]
    },
    {
      "cell_type": "markdown",
      "metadata": {
        "id": "kr-8Rezn3Bep"
      },
      "source": [
        "# **_Create a Chart Comparing the Total Number of Deaths of Men and Women_**\n",
        "\n",
        "Use `df_fatalities` to illustrate how many more men are killed compared to women. "
      ]
    },
    {
      "cell_type": "code",
      "execution_count": null,
      "metadata": {},
      "outputs": [],
      "source": [
        "df_fatalities.sample()"
      ]
    },
    {
      "cell_type": "code",
      "execution_count": null,
      "metadata": {
        "id": "joH1L4303BsJ"
      },
      "outputs": [],
      "source": [
        "gender_counts = df_fatalities['gender'].value_counts()"
      ]
    },
    {
      "cell_type": "code",
      "execution_count": null,
      "metadata": {
        "id": "X4MrMkVa3MTk"
      },
      "outputs": [],
      "source": [
        "# Replace abbreviations with full words:\n",
        "gender_dict = {'M': 'Male', 'F': 'Female'}\n",
        "\n",
        "df_fatalities['gender'] = df_fatalities['gender'].replace(gender_dict)"
      ]
    },
    {
      "cell_type": "code",
      "execution_count": null,
      "metadata": {},
      "outputs": [],
      "source": [
        "gender_counts = df_fatalities['gender'].value_counts()"
      ]
    },
    {
      "cell_type": "code",
      "execution_count": null,
      "metadata": {},
      "outputs": [],
      "source": [
        "gender_counts"
      ]
    },
    {
      "cell_type": "code",
      "execution_count": null,
      "metadata": {},
      "outputs": [],
      "source": [
        "from random import choices\n",
        "\n",
        "colors = ['steelblue', 'firebrick']\n",
        "\n",
        "title = \"People Killed by Police in the US by Gender, 2015-2017\"\n",
        "\n",
        "fig = px.pie(\n",
        "    labels=gender_counts.index,\n",
        "    values=gender_counts.values,\n",
        "    title=title,\n",
        "    names=gender_counts.index,\n",
        "    hole=0.25,\n",
        "    width=840,\n",
        "    height=840,\n",
        "    color_discrete_sequence=colors\n",
        ")\n",
        "\n",
        "fig.update_traces(\n",
        "    textposition='inside',\n",
        "    textfont=dict(family='tahoma', size=12, color='gainsboro'),\n",
        "    textinfo='percent',\n",
        ")\n",
        "\n",
        "fig.update_layout(\n",
        "    title=dict(font=dict(size=24)),\n",
        ")\n",
        "\n",
        "fig.show()"
      ]
    },
    {
      "cell_type": "markdown",
      "metadata": {},
      "source": [
        "#### **_Analysis:_**"
      ]
    },
    {
      "cell_type": "markdown",
      "metadata": {},
      "source": [
        "Men killed by police: $95.8\\%$\n",
        "\n",
        "Women killed by police: $4.22\\%$"
      ]
    },
    {
      "cell_type": "markdown",
      "metadata": {},
      "source": [
        "---\n",
        "---"
      ]
    },
    {
      "cell_type": "markdown",
      "metadata": {
        "_uuid": "cd1531c8421bfb6967cebf7039056779f9b960a6",
        "id": "ZxbBdvM0uRpQ"
      },
      "source": [
        "# **_Create a Box Plot Showing the Age and Manner of Death_**\n",
        "\n",
        "Break out the data by gender using `df_fatalities`. Is there a difference between men and women in the manner of death? "
      ]
    },
    {
      "cell_type": "code",
      "execution_count": null,
      "metadata": {},
      "outputs": [],
      "source": [
        "df_fatalities.dtypes"
      ]
    },
    {
      "cell_type": "code",
      "execution_count": null,
      "metadata": {},
      "outputs": [],
      "source": [
        "# Inspect for non-numeric values:\n",
        "for i in df_fatalities['age'].value_counts().index:\n",
        "    print(i)\n",
        "\n",
        "# All good    "
      ]
    },
    {
      "cell_type": "code",
      "execution_count": null,
      "metadata": {},
      "outputs": [],
      "source": [
        "# Inspect:\n",
        "df_fatalities['manner_of_death'].value_counts()"
      ]
    },
    {
      "cell_type": "code",
      "execution_count": null,
      "metadata": {},
      "outputs": [],
      "source": [
        "plt.figure(figsize=(13, 5))\n",
        "\n",
        "sns.boxplot(\n",
        "    data=df_fatalities,\n",
        "    x='age',\n",
        "    y='manner_of_death',\n",
        "    width=0.6,\n",
        "    notch=True,\n",
        "    flierprops={\"marker\": \"o\",\n",
        "                \"markersize\": 10,\n",
        "                'markerfacecolor': 'crimson',\n",
        "                'markeredgecolor': 'forestgreen',\n",
        "                'linestyle': 'dotted'},\n",
        "    hue='manner_of_death'\n",
        ")\n",
        "\n",
        "plt.title('Box Plot: US Killings by Police:\\nAge vs. Manner of Death, 2015-17',\n",
        "          fontdict={'size': 22, 'weight': 'bold'},\n",
        "          pad=25.0)\n",
        "          \n",
        "plt.xlabel('Age of Deceased', \n",
        "           fontdict={'size': 18, 'weight': 'bold'}, \n",
        "           labelpad=25.0)\n",
        "plt.ylabel('Manner of Death', \n",
        "           fontdict={'size': 18, 'weight': 'bold'}, \n",
        "           labelpad=25.0)\n",
        "\n",
        "plt.grid(axis='x')\n",
        "plt.margins(0.35)\n",
        "\n",
        "plt.show()"
      ]
    },
    {
      "cell_type": "markdown",
      "metadata": {},
      "source": [
        "#### **_Analysis:_**"
      ]
    },
    {
      "cell_type": "markdown",
      "metadata": {},
      "source": [
        "Most victims were between the ages of 25 and 45, with the age range slightly higher for `shot and Tasered`.\n",
        "\n",
        "More outliers of higher age (above 75) for `shot`."
      ]
    },
    {
      "cell_type": "markdown",
      "metadata": {},
      "source": [
        "---\n",
        "---"
      ]
    },
    {
      "cell_type": "markdown",
      "metadata": {
        "id": "h1pAgkyb3Xb0"
      },
      "source": [
        "# **_Were People Armed?_**\n",
        "\n",
        "In what percentage of police killings were people armed?\n",
        "\n",
        "Create a chart that shows what kind of weapon (if any) the deceased was carrying.\n",
        "\n",
        "How many of the people killed by police were armed with guns versus unarmed?"
      ]
    },
    {
      "cell_type": "markdown",
      "metadata": {},
      "source": [
        "---"
      ]
    },
    {
      "cell_type": "markdown",
      "metadata": {},
      "source": [
        "#### **_In what percentage of police killings were people armed?_**"
      ]
    },
    {
      "cell_type": "code",
      "execution_count": null,
      "metadata": {},
      "outputs": [],
      "source": [
        "df_armed = df_fatalities[['armed']]"
      ]
    },
    {
      "cell_type": "code",
      "execution_count": null,
      "metadata": {},
      "outputs": [],
      "source": [
        "# Search all entries and determine what might be considered 'unarmed':\n",
        "for i in df_armed.value_counts().index:\n",
        "    print(i)\n",
        "\n",
        "# I'll use:\n",
        "unarmed = ['unarmed', 'undetermined', 'unknown weapon', 0]"
      ]
    },
    {
      "cell_type": "code",
      "execution_count": null,
      "metadata": {},
      "outputs": [],
      "source": [
        "# Change all 'unarmed'-type to explicitly 'unarmed':\n",
        "for i in unarmed:\n",
        "    df_armed['armed'] = df_armed['armed'].replace(i, 'unarmed')"
      ]
    },
    {
      "cell_type": "code",
      "execution_count": null,
      "metadata": {},
      "outputs": [],
      "source": [
        "df_armed['armed'] = df_armed['armed'].mask(df_armed['armed'] != 'unarmed', 'armed')"
      ]
    },
    {
      "cell_type": "code",
      "execution_count": null,
      "metadata": {},
      "outputs": [],
      "source": [
        "# Create series and check results:\n",
        "armed_counts = df_armed.value_counts()\n",
        "print(armed_counts)"
      ]
    },
    {
      "cell_type": "code",
      "execution_count": null,
      "metadata": {},
      "outputs": [],
      "source": [
        "fig, ax = plt.subplots(figsize=(9, 9))\n",
        "\n",
        "labels = 'armed', 'unarmed'\n",
        "explode = (0, 0.1)\n",
        "\n",
        "ax.pie(\n",
        "    armed_counts,\n",
        "    explode=explode,\n",
        "    labels=labels,\n",
        "    autopct='%1.2f%%',\n",
        "    shadow={'ox': -0.04, 'edgecolor': 'none', 'shade': 0.9}, \n",
        "    startangle=90,\n",
        "    colors=['steelblue', 'firebrick'],\n",
        ")\n",
        "\n",
        "title = \"Killings by US Police 2015-2017\"\n",
        "title += \"\\nArmed vs. Unarmed\"\n",
        "ax.set_title(title, size=16, weight='bold')\n",
        "\n",
        "ax.legend(['Armed', 'Unarmed'])\n",
        "\n",
        "plt.show()"
      ]
    },
    {
      "cell_type": "markdown",
      "metadata": {},
      "source": [
        "#### **_Analysis:_**"
      ]
    },
    {
      "cell_type": "markdown",
      "metadata": {},
      "source": [
        "$87.57\\%$ Armed\n",
        "\n",
        "$12.43\\%$ Unarmed"
      ]
    },
    {
      "cell_type": "markdown",
      "metadata": {},
      "source": [
        "---"
      ]
    },
    {
      "cell_type": "markdown",
      "metadata": {},
      "source": [
        "#### **_Create a chart that shows what kind of weapon (if any) the deceased was carrying._**"
      ]
    },
    {
      "cell_type": "code",
      "execution_count": null,
      "metadata": {},
      "outputs": [],
      "source": [
        "armed_counts = df_fatalities['armed'].value_counts()"
      ]
    },
    {
      "cell_type": "code",
      "execution_count": null,
      "metadata": {},
      "outputs": [],
      "source": [
        "# Make descriptive labels:\n",
        "armed_zipped = list(zip(armed_counts.index, armed_counts))\n",
        "armed_labels = [f\"{i}: {j}\" for i, j in armed_zipped]"
      ]
    },
    {
      "cell_type": "code",
      "execution_count": null,
      "metadata": {},
      "outputs": [],
      "source": [
        "colors = [\n",
        "    \"black\", \"blue\", \"brown\", \"chocolate\", \"cornflowerblue\", \"crimson\", \"darkblue\",\n",
        "    \"darkcyan\", \"darkgoldenrod\", \"darkgreen\", \"darkkhaki\", \"darkmagenta\", \"darkolivegreen\",\n",
        "    \"darkorange\", \"darkorchid\", \"darkred\", \"darksalmon\", \"darkseagreen\", \"darkslateblue\",\n",
        "    \"darkslategray\", \"darkslategrey\", \"darkturquoise\", \"darkviolet\", \"deeppink\", \"dimgray\",\n",
        "    \"dodgerblue\", \"firebrick\", \"forestgreen\", \"goldenrod\", \"green\", \"greenyellow\", \"indigo\",\n",
        "    \"lightgreen\", \"limegreen\", \"maroon\", \"mediumblue\", \"mediumseagreen\", \"mediumslateblue\",\n",
        "    \"mediumspringgreen\", \"midnightblue\", \"navy\", \"olive\", \"olivedrab\", \"palegreen\", \"peru\",\n",
        "    \"purple\", \"rebeccapurple\", \"rosybrown\", \"royalblue\", \"saddlebrown\", \"sandybrown\",\n",
        "    \"seagreen\", \"sienna\", \"slateblue\", \"springgreen\", \"steelblue\", \"yellowgreen\"\n",
        "]"
      ]
    },
    {
      "cell_type": "code",
      "execution_count": null,
      "metadata": {
        "id": "0d9B3Pec4TdM"
      },
      "outputs": [],
      "source": [
        "# Plot it:\n",
        "title = \"Police Killings in the US: Type of Weapon Carried by Deceased , 2015-2017\"\n",
        "\n",
        "fig = px.pie(\n",
        "    labels=armed_counts.index,\n",
        "    values=armed_counts.values,\n",
        "    title=title,\n",
        "    names=armed_labels,\n",
        "    hole=0.25,\n",
        "    width=1920,\n",
        "    height=1920,\n",
        "    color_discrete_sequence=choices(colors, k=len(armed_counts.index)),\n",
        ")\n",
        "\n",
        "# Make labels outside if too small for text:\n",
        "\n",
        "fig.update_traces(\n",
        "    textposition='inside',\n",
        "    textfont=dict(family='tahoma', size=14, color='gainsboro'),\n",
        "    textinfo='percent',\n",
        "    insidetextorientation='radial',\n",
        ")\n",
        "\n",
        "fig.update_layout(\n",
        "    title=dict(font=dict(size=42)),\n",
        "    legend=dict(entrywidth=0.3,\n",
        "                entrywidthmode='fraction',\n",
        "                orientation='h',\n",
        "                y=-0.05,\n",
        "                xanchor='center',\n",
        "                x=0.6)\n",
        ")\n",
        "\n",
        "fig.show()"
      ]
    },
    {
      "cell_type": "markdown",
      "metadata": {},
      "source": [
        "#### **_Analysis:_**"
      ]
    },
    {
      "cell_type": "markdown",
      "metadata": {},
      "source": [
        "Most common weapon: _Gun_\n",
        "\n",
        "Least common weapon: _Pen_"
      ]
    },
    {
      "cell_type": "markdown",
      "metadata": {},
      "source": [
        "---"
      ]
    },
    {
      "cell_type": "markdown",
      "metadata": {},
      "source": [
        "#### **_How many of the people killed by police were armed with guns versus unarmed?_**"
      ]
    },
    {
      "cell_type": "code",
      "execution_count": null,
      "metadata": {
        "id": "vdGTO3pW4Tp5"
      },
      "outputs": [],
      "source": [
        "num_unarmed = df_armed.value_counts()['unarmed']"
      ]
    },
    {
      "cell_type": "code",
      "execution_count": null,
      "metadata": {},
      "outputs": [],
      "source": [
        "num_guns = df_fatalities['armed'].value_counts()['gun']"
      ]
    },
    {
      "cell_type": "code",
      "execution_count": null,
      "metadata": {},
      "outputs": [],
      "source": [
        "labels = [f\"Armed with Guns: {num_guns}\", f\"Unarmed: {num_unarmed}\"]"
      ]
    },
    {
      "cell_type": "code",
      "execution_count": null,
      "metadata": {},
      "outputs": [],
      "source": [
        "fig, ax = plt.subplots(figsize=(9, 9))\n",
        "\n",
        "explode = [0.2, 0]\n",
        "\n",
        "ax.pie(\n",
        "    [num_guns, num_unarmed],\n",
        "    explode=explode,\n",
        "    labels=labels,\n",
        "    autopct='%1.2f%%',\n",
        "    shadow={'ox': -0.03, 'oy': 0.02, 'edgecolor': 'k', 'facecolor': 'navy'}, \n",
        "    startangle=90,\n",
        "    colors=['steelblue', 'firebrick'],\n",
        ")\n",
        "\n",
        "title = \"Killings by US Police 2015-2017\"\n",
        "title += \"\\nArmed with Guns vs. Unarmed\"\n",
        "ax.set_title(title, size=16, weight='bold')\n",
        "\n",
        "ax.legend(['Armed with Guns', 'Unarmed'])\n",
        "\n",
        "plt.show()"
      ]
    },
    {
      "cell_type": "markdown",
      "metadata": {},
      "source": [
        "#### **_Analysis:_**"
      ]
    },
    {
      "cell_type": "markdown",
      "metadata": {},
      "source": [
        "Armed with guns:\n",
        "\n",
        "-   $1,398$\n",
        "\n",
        "-   $81.61\\%$\n",
        "\n",
        "\n",
        "Unarmed:\n",
        "\n",
        "-   $315$\n",
        "\n",
        "-   $18.39\\%$"
      ]
    },
    {
      "cell_type": "markdown",
      "metadata": {},
      "source": [
        "---\n",
        "---"
      ]
    },
    {
      "cell_type": "markdown",
      "metadata": {
        "id": "IgD2a5-L4W_I"
      },
      "source": [
        "# **_How Old Were the People Killed?_**"
      ]
    },
    {
      "cell_type": "markdown",
      "metadata": {
        "id": "BNPrdT-W9lf3"
      },
      "source": [
        "#### **_Work out what percentage of people killed were under 25 years old._**  "
      ]
    },
    {
      "cell_type": "code",
      "execution_count": null,
      "metadata": {
        "id": "zSyDgzb542O9"
      },
      "outputs": [],
      "source": [
        "# Create a new row based on bool for `age < 25`\n",
        "series_under_25 = df_fatalities['age'].apply(lambda x: 'under_25' if x < 25 else 'over_25')"
      ]
    },
    {
      "cell_type": "code",
      "execution_count": null,
      "metadata": {},
      "outputs": [],
      "source": [
        "# Add row to the DF:\n",
        "df_fatalities.insert(5, '>25<', series_under_25)"
      ]
    },
    {
      "cell_type": "code",
      "execution_count": null,
      "metadata": {},
      "outputs": [],
      "source": [
        "# Create series to count age groups:\n",
        "series_count_25 = df_fatalities['>25<'].value_counts()"
      ]
    },
    {
      "cell_type": "code",
      "execution_count": null,
      "metadata": {},
      "outputs": [],
      "source": [
        "val_over = series_count_25['over_25']\n",
        "val_under = series_count_25['under_25']"
      ]
    },
    {
      "cell_type": "code",
      "execution_count": null,
      "metadata": {},
      "outputs": [],
      "source": [
        "fig, ax = plt.subplots(figsize=(11, 11))\n",
        "\n",
        "labels = (f\"Over 25: {val_over:,}\", f\"Under 25: {val_under:,}\")\n",
        "explode = (0, 0.1)\n",
        "\n",
        "ax.pie(\n",
        "    series_count_25,\n",
        "    explode=explode,\n",
        "    # labels=labels,\n",
        "    autopct='%1.2f%%',\n",
        "    shadow={'ox': -0.03,\n",
        "            'oy': 0.02,\n",
        "            'edgecolor': 'darkred',\n",
        "            'facecolor': 'seagreen'},\n",
        "    startangle=90,\n",
        "    colors=['steelblue', 'firebrick'],\n",
        "    textprops=dict(\n",
        "        color='snow',\n",
        "        backgroundcolor='seagreen',\n",
        "        size=12,\n",
        "        style='italic',\n",
        "        weight='bold'\n",
        "    ),\n",
        ")\n",
        "\n",
        "title = \"Killings by US Police 2015-2017:\\n\"\n",
        "title += \"Number Over/Under Age 25\"\n",
        "ax.set_title(title, size=24, weight='bold', loc='left')\n",
        "\n",
        "ax.legend(\n",
        "    labels=labels,\n",
        "    edgecolor='k',\n",
        "    mode=None, # 'expand'\n",
        "    facecolor='seagreen',\n",
        "    fontsize='x-large',\n",
        "    labelcolor='snow'\n",
        ")\n",
        "\n",
        "plt.show()"
      ]
    },
    {
      "cell_type": "markdown",
      "metadata": {},
      "source": [
        "#### **_Analysis:_**"
      ]
    },
    {
      "cell_type": "markdown",
      "metadata": {},
      "source": [
        "Over 25:\n",
        "\n",
        "-   $79.21\\%$\n",
        "\n",
        "-   $2,008$ total\n",
        "\n",
        "Under 25:\n",
        "\n",
        "-   $20.79\\%$\n",
        "\n",
        "-   $527$ total"
      ]
    },
    {
      "cell_type": "markdown",
      "metadata": {},
      "source": [
        "---"
      ]
    },
    {
      "cell_type": "markdown",
      "metadata": {
        "id": "5XrAD_ey9qBB"
      },
      "source": [
        "#### **_Create a histogram and KDE plot that shows the distribution of ages of the people killed by police._**"
      ]
    },
    {
      "cell_type": "code",
      "execution_count": null,
      "metadata": {},
      "outputs": [],
      "source": [
        "series_age = df_fatalities['age'].value_counts()"
      ]
    },
    {
      "cell_type": "code",
      "execution_count": null,
      "metadata": {},
      "outputs": [],
      "source": [
        "for i in series_age:\n",
        "    print(i)"
      ]
    },
    {
      "cell_type": "code",
      "execution_count": null,
      "metadata": {
        "id": "U6B1Qp7l42H8"
      },
      "outputs": [],
      "source": [
        "series_age_skew = np.round(series_age.skew(), 3)\n",
        "series_age_mean = np.round(series_age.mean(), 3)\n",
        "\n",
        "fig, ax = plt.subplots(figsize=(15, 10), dpi=200)\n",
        "\n",
        "sns.histplot(\n",
        "    series_age,\n",
        "    kde=True,\n",
        "    color='teal',\n",
        "    legend=False,\n",
        "    ax=ax,\n",
        "    alpha=0.6,\n",
        "    bins=50,\n",
        "    # line_kws={'color': 'crimson', 'lw': 5, 'ls': ':'}\n",
        ")\n",
        "\n",
        "sns.set_theme(style='darkgrid')\n",
        "\n",
        "title = f\"Age Distribution: People Killed by US Police 2015-2017\\n\"\n",
        "title += f\"Histogram and Kernel Density Estimation\\n\"\n",
        "title += f\"skew: {series_age_skew}/mean: {series_age_mean}\"\n",
        "\n",
        "plt.title(title, size=24, weight='bold')\n",
        "plt.xlabel(\"Victim Age\", fontsize=18)\n",
        "plt.ylabel(\"Count\", fontsize=18)\n",
        "\n",
        "plt.legend(\n",
        "    labels=['KDE', 'Histogram'],\n",
        "    edgecolor='k',\n",
        "    mode=None, # 'expand'\n",
        "    facecolor='silver',\n",
        "    fontsize='xx-large',\n",
        "    labelcolor='k',\n",
        ")\n",
        "\n",
        "plt.show()"
      ]
    },
    {
      "cell_type": "markdown",
      "metadata": {},
      "source": [
        "#### **_Analysis:_**"
      ]
    },
    {
      "cell_type": "markdown",
      "metadata": {},
      "source": [
        "A skew of .468 indicates there are slightly more data points w/lower values.\n",
        "\n",
        "The slightly decreasing KDE indicates there are slightly fewer data points in this dataset with higher values.\n",
        "\n",
        "The histogram bars are much higher to the left, so this bears out the above conclusions.\n",
        "\n",
        "Overall, the spread of data points is pretty even, but there is a spike of data points with smaller values."
      ]
    },
    {
      "cell_type": "markdown",
      "metadata": {},
      "source": [
        "---"
      ]
    },
    {
      "cell_type": "markdown",
      "metadata": {
        "id": "zcqqPDo79rTx"
      },
      "source": [
        "#### **_Create a seperate KDE plot for each race. Is there a difference between the distributions?_**\n"
      ]
    },
    {
      "cell_type": "code",
      "execution_count": null,
      "metadata": {},
      "outputs": [],
      "source": [
        "series_races = df_fatalities['race'].value_counts()"
      ]
    },
    {
      "cell_type": "code",
      "execution_count": null,
      "metadata": {},
      "outputs": [],
      "source": [
        "plt.figure(figsize=(11, 13))\n",
        "\n",
        "widths = [3, 4, 3, 2, 3, 4]\n",
        "linestyles = ['--', '-', '-.', ':', '-', '--']\n",
        "colors = ['forestgreen', 'goldenrod', 'orangered', 'dimgrey', 'cadetblue', 'mediumorchid']\n",
        "\n",
        "for race in series_races.index:\n",
        "    sns.kdeplot(\n",
        "        df_fatalities['race'] == race,\n",
        "        linewidth=widths.pop(0),\n",
        "        linestyle=linestyles.pop(0),\n",
        "        legend=True,\n",
        "        color=colors.pop(0),\n",
        "        alpha=0.8,\n",
        "        # fill=True,\n",
        "    )\n",
        "\n",
        "sns.set_theme(style='darkgrid')\n",
        "\n",
        "title = f\"Race Distribution:\\nPeople Killed by US Police 2015-2017,\\n\"\n",
        "title += f\"Kernel Density Estimation (KDE)\\n\"\n",
        "\n",
        "plt.title(title, size=24, weight='bold')\n",
        "plt.xlabel(\"Victim Race\", fontsize=18)\n",
        "plt.ylabel(\"KDE Value\", fontsize=18)    \n",
        "\n",
        "plt.legend(\n",
        "    labels=series_races.index,\n",
        "    edgecolor='k',\n",
        "    facecolor='gainsboro',\n",
        "    fontsize='large',\n",
        "    labelcolor='k',\n",
        ")\n",
        "\n",
        "plt.show()    "
      ]
    },
    {
      "cell_type": "markdown",
      "metadata": {},
      "source": [
        "#### **_Analysis:_**"
      ]
    },
    {
      "cell_type": "markdown",
      "metadata": {},
      "source": [
        "Caucasians have a higher `1` spike. `1` represents the `True` bool, meaning that more Caucasians are found in the DataFrame than any other race. \n",
        "\n",
        "This bears out since Caucasians have the lowest `0` spike.\n",
        "\n",
        "Also, Asian Americans and Native Americans have the highest `0` spikes and lowest `1` spikes, meaning they populate the DataFrame less.\n",
        "\n",
        "A plot of this simple statistic (portion of each element) confirms which element is most/least present in the dataset."
      ]
    },
    {
      "cell_type": "markdown",
      "metadata": {},
      "source": [
        "---\n",
        "---"
      ]
    },
    {
      "cell_type": "markdown",
      "metadata": {
        "id": "JkcHvMUt43uE"
      },
      "source": [
        "# **_Race of People Killed_**\n",
        "\n",
        "Create a chart that shows the total number of people killed by race. "
      ]
    },
    {
      "cell_type": "code",
      "execution_count": null,
      "metadata": {},
      "outputs": [],
      "source": [
        "colors = ['forestgreen', 'darkgoldenrod', 'orangered', 'darkslateblue', 'cadetblue', 'darkorchid']\n",
        "\n",
        "title = \"Killings by US Police 2015-2017 by Race\"\n",
        "\n",
        "labels = (\n",
        "    f\"Caucasian: {series_races['Caucasian']:,}\", \n",
        "    f\"African American: {series_races['African American']:,}\", \n",
        "    f\"Latino: {series_races['Latino']:,}\", \n",
        "    f\"Undetermined: {series_races['Undetermined']:,}\", \n",
        "    f\"Asian American: {series_races['Asian American']:,}\", \n",
        "    f\"Native American: {series_races['Native American']:,}\", \n",
        ")\n",
        "\n",
        "fig = px.pie(\n",
        "    labels=series_races.index,\n",
        "    values=series_races.values,\n",
        "    title=title,\n",
        "    names=labels,\n",
        "    hole=0.25,\n",
        "    width=950,\n",
        "    height=750,\n",
        "    color_discrete_sequence=colors\n",
        ")\n",
        "\n",
        "fig.update_traces(\n",
        "    textposition='inside',\n",
        "    textfont=dict(family='tahoma', size=14, color='aliceblue'),\n",
        "    textinfo='percent',\n",
        ")\n",
        "\n",
        "fig.update_layout(\n",
        "    title=dict(font=dict(size=30)),\n",
        ")\n",
        "\n",
        "fig.show()"
      ]
    },
    {
      "cell_type": "markdown",
      "metadata": {},
      "source": [
        "#### **_Analysis:_**"
      ]
    },
    {
      "cell_type": "markdown",
      "metadata": {},
      "source": [
        "Caucasians comprise the most of any race killed, Native Americans the fewest."
      ]
    },
    {
      "cell_type": "markdown",
      "metadata": {},
      "source": [
        "---\n",
        "---"
      ]
    },
    {
      "cell_type": "markdown",
      "metadata": {
        "id": "SJaNm4rC5nWm"
      },
      "source": [
        "# **_Mental Illness and Police Killings_**\n",
        "\n",
        "What percentage of people killed by police have been diagnosed with a mental illness?"
      ]
    },
    {
      "cell_type": "code",
      "execution_count": null,
      "metadata": {},
      "outputs": [],
      "source": [
        "# Create Series to count 'signs_of_mental_illness' counts:\n",
        "series_mental_illness = df_fatalities['signs_of_mental_illness'].value_counts()"
      ]
    },
    {
      "cell_type": "code",
      "execution_count": null,
      "metadata": {},
      "outputs": [],
      "source": [
        "# Create labels, indicate colors and title:\n",
        "label_no_signs = series_mental_illness[False]\n",
        "label_signs = series_mental_illness[True]\n",
        "\n",
        "labels = (\n",
        "    f\"No Signs of Mental Illness: {label_no_signs:,}\", \n",
        "    f\"Signs of Mental Illness: {label_signs:,}\", \n",
        ")\n",
        "\n",
        "colors = ['forestgreen', 'firebrick']\n",
        "\n",
        "title = \"Killings by US Police 2015-2017 by Signs of Mental Illness\""
      ]
    },
    {
      "cell_type": "code",
      "execution_count": null,
      "metadata": {},
      "outputs": [],
      "source": [
        "# Plot pie:\n",
        "fig = px.pie(\n",
        "    labels=series_mental_illness.index,\n",
        "    values=series_mental_illness.values,\n",
        "    title=title,\n",
        "    names=labels,\n",
        "    hole=0.25,\n",
        "    width=950,\n",
        "    height=750,\n",
        "    color_discrete_sequence=colors\n",
        ")\n",
        "\n",
        "fig.update_traces(\n",
        "    textposition='inside',\n",
        "    textfont=dict(family='tahoma', size=14, color='aliceblue'),\n",
        "    textinfo='percent',\n",
        ")\n",
        "\n",
        "fig.update_layout(\n",
        "    title=dict(font=dict(size=30)),\n",
        ")\n",
        "\n",
        "fig.show()"
      ]
    },
    {
      "cell_type": "markdown",
      "metadata": {},
      "source": [
        "#### **_Analysis:_**"
      ]
    },
    {
      "cell_type": "markdown",
      "metadata": {},
      "source": [
        "$25\\%$ of people killed had signs of mental illness."
      ]
    },
    {
      "cell_type": "markdown",
      "metadata": {},
      "source": [
        "---\n",
        "---"
      ]
    },
    {
      "cell_type": "markdown",
      "metadata": {
        "id": "R0WSPeKD5Cir"
      },
      "source": [
        "# **_In Which Cities Do the Most Police Killings Take Place?_**\n",
        "\n",
        "Create a chart ranking the top 10 cities with the most police killings. Which cities are the most dangerous?"
      ]
    },
    {
      "cell_type": "code",
      "execution_count": null,
      "metadata": {
        "id": "dbuGvCnN5ytC"
      },
      "outputs": [],
      "source": [
        "# In case same city names have different states:\n",
        "city_state_series = df_fatalities['city'] + ', ' + df_fatalities['state']"
      ]
    },
    {
      "cell_type": "code",
      "execution_count": null,
      "metadata": {
        "id": "BsKDVLiY5CP_"
      },
      "outputs": [],
      "source": [
        "# Insert 'city_state' into DF:\n",
        "df_fatalities.insert(10, 'city_state', city_state_series)"
      ]
    },
    {
      "cell_type": "code",
      "execution_count": null,
      "metadata": {},
      "outputs": [],
      "source": [
        "series_cities_10_largest = df_fatalities['city_state'].value_counts().nlargest(10)"
      ]
    },
    {
      "cell_type": "code",
      "execution_count": null,
      "metadata": {},
      "outputs": [],
      "source": [
        "series_cities_10_largest"
      ]
    },
    {
      "cell_type": "code",
      "execution_count": null,
      "metadata": {},
      "outputs": [],
      "source": [
        "# Figure out how to insert these into legend:\n",
        "labels = [f\"{i}: {j}\" for i, j in series_cities_10_largest.items()]\n",
        "\n",
        "title = \"Killings by US Police 2015-2017: Cities with Most Shootings\""
      ]
    },
    {
      "cell_type": "code",
      "execution_count": null,
      "metadata": {},
      "outputs": [],
      "source": [
        "fig = px.bar(\n",
        "    x=series_cities_10_largest.index, \n",
        "    y=series_cities_10_largest.values, \n",
        "    title=title,\n",
        "    width=1100,\n",
        "    height=700,\n",
        "    color=series_cities_10_largest.index,\n",
        ")\n",
        "\n",
        "fig.update_layout(\n",
        "    title_font_family=\"tahoma\",\n",
        "    title_font_size=36,\n",
        "    showlegend=False,\n",
        ")\n",
        "\n",
        "fig.update_xaxes(\n",
        "    title_text=\"Cities with Most Shootings\", \n",
        "    title_font_family=\"Arial\", \n",
        "    title_font_size=22,\n",
        "    tickangle=60,\n",
        ")\n",
        "\n",
        "fig.update_yaxes(\n",
        "    title_text=\"Number of Shootings\", \n",
        "    title_font_family=\"Arial\", \n",
        "    title_font_size=22\n",
        ")\n",
        "\n",
        "fig.show()"
      ]
    },
    {
      "cell_type": "markdown",
      "metadata": {},
      "source": [
        "#### **_Analysis:_**"
      ]
    },
    {
      "cell_type": "markdown",
      "metadata": {},
      "source": [
        "Most shootings to least amongst cities with most shootings:\n",
        "\n",
        "-   L.A.\n",
        "\n",
        "-   Phoenix\n",
        "\n",
        "-   Houston\n",
        "\n",
        "-   Chicago\n",
        "\n",
        "-   Las Vegas\n",
        "\n",
        "-   San Antonio\n",
        "\n",
        "-   Columbus\n",
        "\n",
        "-   Miami\n",
        "\n",
        "-   Austin\n",
        "\n",
        "-   St. Louis"
      ]
    },
    {
      "cell_type": "markdown",
      "metadata": {},
      "source": [
        "---\n",
        "---"
      ]
    },
    {
      "cell_type": "markdown",
      "metadata": {},
      "source": [
        "---\n",
        "---\n",
        "---\n",
        "---\n",
        "---"
      ]
    },
    {
      "cell_type": "markdown",
      "metadata": {
        "id": "AqcOW6ca8JMD"
      },
      "source": [
        "# **_Rate of Death by Race_**\n",
        "\n",
        "Find the share of each race in the top 10 cities. Contrast this with the top 10 cities of police killings to work out the rate at which people are killed by race for each city. "
      ]
    },
    {
      "cell_type": "code",
      "execution_count": null,
      "metadata": {
        "id": "FkjAUlKy8I2g"
      },
      "outputs": [],
      "source": [
        "# Create DF foreach of the 10 cities with most shootings:\n",
        "df_los_angeles = df_fatalities[df_fatalities['city_state'] == 'Los Angeles, CA']\n",
        "df_phoenix = df_fatalities[df_fatalities['city_state'] == 'Phoenix, AZ']\n",
        "df_houston = df_fatalities[df_fatalities['city_state'] == 'Houston, TX']\n",
        "df_chicago = df_fatalities[df_fatalities['city_state'] == 'Chicago, IL']\n",
        "df_las_vegas = df_fatalities[df_fatalities['city_state'] == 'Las Vegas, NV']\n",
        "df_san_antonio = df_fatalities[df_fatalities['city_state'] == 'San Antonio, TX']\n",
        "df_columbus = df_fatalities[df_fatalities['city_state'] == 'Columbus, OH']\n",
        "df_miami = df_fatalities[df_fatalities['city_state'] == 'Miami, FL']\n",
        "df_austin = df_fatalities[df_fatalities['city_state'] == 'Austin, TX']\n",
        "df_st_louis = df_fatalities[df_fatalities['city_state'] == 'St. Louis, MO']"
      ]
    },
    {
      "cell_type": "code",
      "execution_count": null,
      "metadata": {},
      "outputs": [],
      "source": [
        "# Create series to graph pie charts for each city by race:\n",
        "los_angeles_race_counts = df_los_angeles['race'].value_counts()\n",
        "phoenix_race_counts = df_phoenix['race'].value_counts()\n",
        "houston_race_counts = df_houston['race'].value_counts()\n",
        "chicago_race_counts = df_chicago['race'].value_counts()\n",
        "las_vegas_race_counts = df_las_vegas['race'].value_counts()\n",
        "san_antonio_race_counts = df_san_antonio['race'].value_counts()\n",
        "columbus_race_counts = df_columbus['race'].value_counts()\n",
        "miami_race_counts = df_miami['race'].value_counts()\n",
        "austin_race_counts = df_austin['race'].value_counts()\n",
        "st_louis_race_counts = df_st_louis['race'].value_counts()"
      ]
    },
    {
      "cell_type": "code",
      "execution_count": 282,
      "metadata": {},
      "outputs": [],
      "source": [
        "# Create list to plot each city:\n",
        "city_tuples = [(los_angeles_race_counts, 'Los Angeles, CA'),\n",
        "               (phoenix_race_counts, 'Phoenix, AZ'),\n",
        "               (houston_race_counts, 'Houston, TX'),\n",
        "               (chicago_race_counts, 'Chicago, IL'),\n",
        "               (las_vegas_race_counts, 'Las Vegas, NV'),\n",
        "               (san_antonio_race_counts, 'San Antonio, TX'),\n",
        "               (columbus_race_counts, 'Columbus, OH'),\n",
        "               (miami_race_counts, 'Miami, FL'),\n",
        "               (austin_race_counts, 'Austin, TX'),\n",
        "               (st_louis_race_counts, 'St. Louis, MO')]"
      ]
    },
    {
      "cell_type": "code",
      "execution_count": 341,
      "metadata": {},
      "outputs": [
        {
          "data": {
            "image/png": "[encoded data removed]",
            "text/plain": [
              "<Figure size 1800x1000 with 10 Axes>"
            ]
          },
          "metadata": {},
          "output_type": "display_data"
        }
      ],
      "source": [
        "# fig = plt.figure(figsize=(18, 10), dpi=1600)  # High DPI for saving image\n",
        "fig = plt.figure(figsize=(18, 10))\n",
        "\n",
        "cols = 2\n",
        "rows = 5\n",
        "ind = 0\n",
        "\n",
        "for col in range(cols):\n",
        "    for row in range(rows):\n",
        "        city = city_tuples[ind]\n",
        "        ax1 = plt.subplot2grid((cols, rows), (col, row))\n",
        "        # Plot each sub-pie chart and customize text:\n",
        "        plt.pie(city[0], \n",
        "                autopct='%1.1f%%',\n",
        "                textprops={'color': 'snow', 'size': 6.5})\n",
        "        plt.title(city[1])\n",
        "        # Add legend and customize location/text:\n",
        "        ax1.legend(labels=city[0].index, \n",
        "                   loc='center left', \n",
        "                   bbox_to_anchor=(1, 0.5),\n",
        "                   prop={'size': 8})\n",
        "        ind += 1\n",
        "\n",
        "title = \"U.S. Cities with Most Police Shootings:\"\n",
        "title += \"\\nby Race, 2015-2017\"\n",
        "\n",
        "plt.suptitle(title, size=32, weight='bold')\n",
        "\n",
        "# Optimize plot/legend layout:\n",
        "plt.tight_layout(w_pad=4.5)  # (Causes padding issue beneath title...)\n",
        "\n",
        "plt.show()        "
      ]
    },
    {
      "cell_type": "markdown",
      "metadata": {},
      "source": [
        "#### **_Analysis:_**"
      ]
    },
    {
      "cell_type": "markdown",
      "metadata": {},
      "source": [
        "**These conclusions do not account for portions _Undetermined_:**\n",
        "\n",
        "- Columbus had killings of only _Caucasians_ and _African Americans_.\n",
        "\n",
        "- _Austin_ had killings of only _Caucasians_, _African Americans_ and _Latinos_.\n",
        "\n",
        "- The most killed in Los Angeles and _San Antonio_ were _Latino_.\n",
        "\n",
        "- Caucasians were the highest number killed in _Austin_, _Las Vegas_ and _Phoenix_.\n",
        "\n",
        "- African Americans were the most killed in _Houston_, _Chicago_, _Columbus_, _Miami_ and _St. Louis_.\n"
      ]
    },
    {
      "cell_type": "markdown",
      "metadata": {},
      "source": [
        "---\n",
        "---"
      ]
    },
    {
      "cell_type": "markdown",
      "metadata": {
        "id": "1HUJksrI5WFb"
      },
      "source": [
        "# **_Create a Choropleth Map of Police Killings by US State_**\n",
        "\n",
        "Which states are the most dangerous? Compare your map with your previous chart. Are these the same states with high degrees of poverty? "
      ]
    },
    {
      "cell_type": "code",
      "execution_count": null,
      "metadata": {
        "id": "u3UuX4Yo5dBA"
      },
      "outputs": [],
      "source": []
    },
    {
      "cell_type": "code",
      "execution_count": null,
      "metadata": {
        "id": "Y6VLPDeN5dKO"
      },
      "outputs": [],
      "source": []
    },
    {
      "cell_type": "markdown",
      "metadata": {},
      "source": [
        "<font size=1>\n",
        "\n",
        "```python\n",
        "fig = px.choropleth(\n",
        "    df_country,\n",
        "    locations=\"ISO_Code\",\n",
        "    color=\"Launches\",\n",
        "    hover_name=\"Country\",\n",
        "    color_continuous_scale=\"rainbow\",\n",
        "    # width=1920,\n",
        "    # height=1080,\n",
        ")\n",
        "\n",
        "fig.update_layout(\n",
        "    title_text=\"Rocket Launches by Country (Choropleth Map)\",\n",
        "    title_font_size=20,\n",
        "    title_font_family=\"Courier New\",\n",
        "    title_xref=\"paper\",\n",
        ")\n",
        "\n",
        "fig.show()\n",
        "```\n",
        "\n",
        "</font>"
      ]
    },
    {
      "cell_type": "markdown",
      "metadata": {},
      "source": [
        "#### **_Analysis:_**"
      ]
    },
    {
      "cell_type": "markdown",
      "metadata": {},
      "source": [
        "---\n",
        "---"
      ]
    },
    {
      "cell_type": "markdown",
      "metadata": {
        "id": "37UsmVYF6hA2"
      },
      "source": [
        "# **_Number of Police Killings Over Time_**\n",
        "\n",
        "Analyse the Number of Police Killings over Time. Is there a trend in the data? "
      ]
    },
    {
      "cell_type": "code",
      "execution_count": null,
      "metadata": {
        "id": "nITf1IhP6gpI"
      },
      "outputs": [],
      "source": []
    },
    {
      "cell_type": "code",
      "execution_count": null,
      "metadata": {
        "id": "Q_vxjD_A7JRh"
      },
      "outputs": [],
      "source": []
    },
    {
      "cell_type": "code",
      "execution_count": null,
      "metadata": {
        "id": "mOqtie707JU8"
      },
      "outputs": [],
      "source": []
    },
    {
      "cell_type": "code",
      "execution_count": null,
      "metadata": {
        "id": "5fjhL8Lk7JKa"
      },
      "outputs": [],
      "source": []
    },
    {
      "cell_type": "markdown",
      "metadata": {},
      "source": [
        "#### **_Analysis:_**"
      ]
    },
    {
      "cell_type": "markdown",
      "metadata": {},
      "source": [
        "---\n",
        "---"
      ]
    },
    {
      "cell_type": "markdown",
      "metadata": {
        "id": "9o6uLFpS61nw"
      },
      "source": [
        "# **_Epilogue_**\n",
        "\n",
        "Now that you have analysed the data yourself, read [The Washington Post's analysis here](https://www.washingtonpost.com/graphics/investigations/police-shootings-database/)."
      ]
    },
    {
      "cell_type": "code",
      "execution_count": null,
      "metadata": {},
      "outputs": [],
      "source": [
        "df_hh_income\n",
        "df_fatalities"
      ]
    },
    {
      "cell_type": "code",
      "execution_count": null,
      "metadata": {
        "id": "8PjgzuNa61I1"
      },
      "outputs": [],
      "source": []
    },
    {
      "cell_type": "markdown",
      "metadata": {},
      "source": [
        "#### **_Analysis and Conclusion:_**"
      ]
    },
    {
      "cell_type": "code",
      "execution_count": null,
      "metadata": {},
      "outputs": [],
      "source": []
    },
    {
      "cell_type": "code",
      "execution_count": null,
      "metadata": {},
      "outputs": [],
      "source": []
    },
    {
      "cell_type": "code",
      "execution_count": null,
      "metadata": {},
      "outputs": [],
      "source": []
    },
    {
      "cell_type": "markdown",
      "metadata": {},
      "source": [
        "<font size=1>\n",
        "\n",
        "```python\n",
        "df_paid_apps = df_apps_clean[df_apps_clean['Type'] == 'Paid']\n",
        "\n",
        "revenue_box = px.box(df_paid_apps,\n",
        "                     x='Category',\n",
        "                     y='Revenue_Estimate',\n",
        "                     title='How Much Can Paid Apps Earn?',\n",
        "                     log_y=True)\n",
        "\n",
        "revenue_box.update_xaxes(tickangle=45)\n",
        "\n",
        "revenue_box.update_layout(xaxis_title='Category',\n",
        "                          yaxis_title='Paid App: Ballpark Estimate',\n",
        "                          xaxis={'categoryorder': 'min ascending'},)\n",
        "\n",
        "revenue_box.show()\n",
        "```\n",
        "\n",
        "</font>"
      ]
    },
    {
      "cell_type": "code",
      "execution_count": null,
      "metadata": {},
      "outputs": [],
      "source": [
        "colors = [\n",
        "    \"black\", \"blue\", \"brown\", \"chocolate\", \"cornflowerblue\", \"crimson\", \"darkblue\",\n",
        "    \"darkcyan\", \"darkgoldenrod\", \"darkgreen\", \"darkkhaki\", \"darkmagenta\", \"darkolivegreen\",\n",
        "    \"darkorange\", \"darkorchid\", \"darkred\", \"darksalmon\", \"darkseagreen\", \"darkslateblue\",\n",
        "    \"darkslategray\", \"darkslategrey\", \"darkturquoise\", \"darkviolet\", \"deeppink\", \"dimgray\",\n",
        "    \"dodgerblue\", \"firebrick\", \"forestgreen\", \"goldenrod\", \"green\", \"greenyellow\", \"indigo\",\n",
        "    \"lightgreen\", \"limegreen\", \"maroon\", \"mediumblue\", \"mediumseagreen\", \"mediumslateblue\",\n",
        "    \"mediumspringgreen\", \"midnightblue\", \"navy\", \"olive\", \"olivedrab\", \"palegreen\", \"peru\",\n",
        "    \"purple\", \"rebeccapurple\", \"rosybrown\", \"royalblue\", \"saddlebrown\", \"sandybrown\",\n",
        "    \"seagreen\", \"sienna\", \"slateblue\", \"springgreen\", \"steelblue\", \"yellowgreen\"\n",
        "]\n",
        "\n",
        "linestyles = ['-', ':', '-', ':']"
      ]
    },
    {
      "cell_type": "code",
      "execution_count": null,
      "metadata": {},
      "outputs": [],
      "source": [
        "fig, ax = plt.subplots(figsize=(17, 11))\n",
        "\n",
        "ax.bar(x=pov_states,\n",
        "       height=pov_rate,\n",
        "       label=labels_state_rate,\n",
        "       color=bar_colors,\n",
        "       width=0.5)\n",
        "\n",
        "ax.set_title(\"Poverty Rates: US States\", fontsize=36, weight='bold')\n",
        "ax.set_xlabel(\"States\", fontsize=18)\n",
        "ax.set_ylabel(\"Poverty Rate Percentage\", fontsize=18)\n",
        "\n",
        "plt.legend(ncol=2,\n",
        "           title=\"State: Poverty Rate\",\n",
        "           fontsize='medium',\n",
        "           bbox_to_anchor=(1.05, 1))\n",
        "\n",
        "plt.xticks(rotation=90)\n",
        "\n",
        "plt.show()"
      ]
    }
  ],
  "metadata": {
    "colab": {
      "name": "Fatal Force (start).ipynb",
      "provenance": []
    },
    "kernelspec": {
      "display_name": "Python 3",
      "language": "python",
      "name": "python3"
    },
    "language_info": {
      "codemirror_mode": {
        "name": "ipython",
        "version": 3
      },
      "file_extension": ".py",
      "mimetype": "text/x-python",
      "name": "python",
      "nbconvert_exporter": "python",
      "pygments_lexer": "ipython3",
      "version": "3.12.3"
    }
  },
  "nbformat": 4,
  "nbformat_minor": 0
}
