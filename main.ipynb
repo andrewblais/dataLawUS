{
  "cells": [
    {
      "cell_type": "markdown",
      "metadata": {
        "id": "0KrR-Qd_wXf-"
      },
      "source": [
        "# **_Introduction_**"
      ]
    },
    {
      "cell_type": "markdown",
      "metadata": {
        "id": "I6e2m4XsuRoL"
      },
      "source": [
        "Since Jan. 1, 2015, [The Washington Post](https://www.washingtonpost.com/) has been compiling a database of every fatal shooting in the US by a police officer in the line of duty. \n",
        "\n",
        "<center><img src=https://i.imgur.com/sX3K62b.png></center>\n",
        "\n",
        "While there are many challenges regarding data collection and reporting, The Washington Post has been tracking more than a dozen details about each killing. This includes the race, age and gender of the deceased, whether the person was armed, and whether the victim was experiencing a mental-health crisis. The Washington Post has gathered this supplemental information from law enforcement websites, local new reports, social media, and by monitoring independent databases such as \"Killed by police\" and \"Fatal Encounters\". The Post has also conducted additional reporting in many cases.\n",
        "\n",
        "There are 4 additional datasets: US census data on poverty rate, high school graduation rate, median household income, and racial demographics. [Source of census data](https://factfinder.census.gov/faces/nav/jsf/pages/community_facts.xhtml)."
      ]
    },
    {
      "cell_type": "markdown",
      "metadata": {
        "id": "JwGJl3mnw2Af"
      },
      "source": [
        "### Upgrade Plotly\n",
        "\n",
        "Run the cell below if you are working with Google Colab"
      ]
    },
    {
      "cell_type": "code",
      "execution_count": null,
      "metadata": {
        "colab": {
          "base_uri": "https://localhost:8080/"
        },
        "id": "KvA9PBoRwvQG",
        "outputId": "ca6ee2a1-8da5-4f2d-f2b2-ea019cd92cae"
      },
      "outputs": [],
      "source": [
        "# %pip install --upgrade plotly"
      ]
    },
    {
      "cell_type": "markdown",
      "metadata": {
        "id": "jqXsMLNJxELp"
      },
      "source": [
        "## **_Import Statements_**"
      ]
    },
    {
      "cell_type": "code",
      "execution_count": null,
      "metadata": {
        "id": "TPhEXC2FxGSr"
      },
      "outputs": [],
      "source": [
        "import numpy as np\n",
        "import pandas as pd\n",
        "import plotly.express as px\n",
        "import matplotlib.pyplot as plt\n",
        "import seaborn as sns\n",
        "\n",
        "# This might be helpful:\n",
        "from collections import Counter"
      ]
    },
    {
      "cell_type": "markdown",
      "metadata": {
        "id": "SwKGmmaLxS2s"
      },
      "source": [
        "## **_Notebook Presentation_**"
      ]
    },
    {
      "cell_type": "code",
      "execution_count": null,
      "metadata": {
        "id": "ayQQqhKtxBxj"
      },
      "outputs": [],
      "source": [
        "pd.options.display.float_format = '{:,.2f}'.format"
      ]
    },
    {
      "cell_type": "markdown",
      "metadata": {
        "id": "nKxJMOiMyAUF"
      },
      "source": [
        "## **_Load the Data_**"
      ]
    },
    {
      "cell_type": "markdown",
      "metadata": {},
      "source": [
        "#### **_Make file retrieval process more robust w/`os` stuff:_**"
      ]
    },
    {
      "cell_type": "code",
      "execution_count": null,
      "metadata": {},
      "outputs": [],
      "source": [
        "import os"
      ]
    },
    {
      "cell_type": "code",
      "execution_count": null,
      "metadata": {},
      "outputs": [],
      "source": [
        "curr_dir = os.getcwd()\n",
        "data_dir = os.path.join(curr_dir, 'data')\n",
        "\n",
        "data_dir"
      ]
    },
    {
      "cell_type": "code",
      "execution_count": null,
      "metadata": {},
      "outputs": [],
      "source": [
        "enc = 'windows-1252'\n",
        "\n",
        "hh_income_csv_path = os.path.join(data_dir, \"Median_Household_Income_2015.csv\")\n",
        "df_hh_income = pd.read_csv(hh_income_csv_path, encoding=enc)\n",
        "\n",
        "pct_poverty_csv_path = os.path.join(data_dir, \"Pct_People_Below_Poverty_Level.csv\")\n",
        "df_pct_poverty = pd.read_csv(pct_poverty_csv_path, encoding=enc)\n",
        "\n",
        "pct_completed_hs_csv_path = os.path.join(data_dir, \"Pct_Over_25_Completed_High_School.csv\")\n",
        "df_pct_completed_hs = pd.read_csv(pct_completed_hs_csv_path, encoding=enc)\n",
        "\n",
        "share_race_city_csv_path = os.path.join(data_dir, \"Share_of_Race_By_City.csv\")\n",
        "df_share_race_city = pd.read_csv(share_race_city_csv_path, encoding=enc)\n",
        "\n",
        "fatalities_csv_path = os.path.join(data_dir, \"Deaths_by_Police_US.csv\")\n",
        "df_fatalities = pd.read_csv(fatalities_csv_path, encoding=enc)\n"
      ]
    },
    {
      "cell_type": "markdown",
      "metadata": {},
      "source": [
        "---\n",
        "---"
      ]
    },
    {
      "cell_type": "markdown",
      "metadata": {
        "id": "6RuA5SvUyEaB"
      },
      "source": [
        "# **_Preliminary Data Exploration_**"
      ]
    },
    {
      "cell_type": "markdown",
      "metadata": {},
      "source": [
        "* What is the shape of the DataFrames? "
      ]
    },
    {
      "cell_type": "code",
      "execution_count": null,
      "metadata": {
        "id": "3U9RcS1WyrRJ"
      },
      "outputs": [],
      "source": [
        "print(f\"`df_hh_income` shape: {df_hh_income.shape}\")\n",
        "print(f\"`df_pct_poverty` shape: {df_pct_poverty.shape}\")\n",
        "print(f\"`df_pct_completed_hs` shape: {df_pct_completed_hs.shape}\")\n",
        "print(f\"`df_share_race_city` shape: {df_share_race_city.shape}\")\n",
        "print(f\"`df_fatalities` shape: {df_fatalities.shape}\")"
      ]
    },
    {
      "cell_type": "markdown",
      "metadata": {},
      "source": [
        "---"
      ]
    },
    {
      "cell_type": "markdown",
      "metadata": {},
      "source": [
        "* How many rows and columns do they have?"
      ]
    },
    {
      "cell_type": "code",
      "execution_count": null,
      "metadata": {},
      "outputs": [],
      "source": [
        "df_hh_income_columns, df_hh_income_rows = df_hh_income.shape\n",
        "print(f\"df_hh_income cols: {df_hh_income_columns}\")\n",
        "print(f\"df_hh_income rows: {df_hh_income_rows}\\n\")\n",
        "\n",
        "df_pct_poverty_columns, df_pct_poverty_rows = df_pct_poverty.shape\n",
        "print(f\"df_pct_poverty cols: {df_pct_poverty_columns}\")\n",
        "print(f\"df_pct_poverty rows: {df_pct_poverty_rows}\\n\")\n",
        "\n",
        "df_pct_completed_hs_columns, df_pct_completed_hs_rows = df_pct_completed_hs.shape\n",
        "print(f\"df_pct_completed_hs cols: {df_pct_completed_hs_columns}\")\n",
        "print(f\"df_pct_completed_hs rows: {df_pct_completed_hs_rows}\\n\")\n",
        "\n",
        "df_share_race_city_columns, df_share_race_city_rows = df_share_race_city.shape\n",
        "print(f\"df_share_race_city cols: {df_share_race_city_columns}\")\n",
        "print(f\"df_share_race_city rows: {df_share_race_city_rows}\\n\")\n",
        "\n",
        "df_fatalities_columns, df_fatalities_rows = df_fatalities.shape\n",
        "print(f\"df_fatalities cols: {df_fatalities_columns}\")\n",
        "print(f\"df_fatalities rows: {df_fatalities_rows}\\n\")\n"
      ]
    },
    {
      "cell_type": "markdown",
      "metadata": {},
      "source": [
        "#### **_Analysis:_**"
      ]
    },
    {
      "cell_type": "markdown",
      "metadata": {},
      "source": [
        "The first four DFs have similar number of rows.\n",
        "\n",
        "The second and third DFs have the exact same number of rows.\n",
        "\n",
        "The first three have the same number of columns.\n",
        "\n",
        "The last has many fewer rows, but more columns."
      ]
    },
    {
      "cell_type": "markdown",
      "metadata": {},
      "source": [
        "---"
      ]
    },
    {
      "cell_type": "markdown",
      "metadata": {},
      "source": [
        "* What are the column names?"
      ]
    },
    {
      "cell_type": "code",
      "execution_count": null,
      "metadata": {},
      "outputs": [],
      "source": [
        "def format_col_names(dataframe):\n",
        "    col_list = dataframe.columns\n",
        "    col_name_str = \", \".join(col_list)\n",
        "    return col_name_str"
      ]
    },
    {
      "cell_type": "code",
      "execution_count": null,
      "metadata": {},
      "outputs": [],
      "source": [
        "df_hh_income_cols = format_col_names(df_hh_income)\n",
        "print(f\"`df_hh_income` col names: {df_hh_income_cols}\\n\")\n",
        "\n",
        "df_pct_poverty_cols = format_col_names(df_pct_poverty)\n",
        "print(f\"`df_pct_poverty` col names: {df_pct_poverty_cols}\\n\")\n",
        "\n",
        "df_pct_completed_hs_cols = format_col_names(df_pct_completed_hs)\n",
        "print(f\"`df_pct_completed_hs` col names: {df_pct_completed_hs_cols}\\n\")\n",
        "\n",
        "df_share_race_city_cols = format_col_names(df_share_race_city)\n",
        "print(f\"`df_share_race_city` col names: {df_share_race_city_cols}\\n\")\n",
        "\n",
        "df_fatalities_cols = format_col_names(df_fatalities)\n",
        "print(f\"`df_fatalities` col names: {df_fatalities_cols}\\n\")\n"
      ]
    },
    {
      "cell_type": "markdown",
      "metadata": {},
      "source": [
        "---"
      ]
    },
    {
      "cell_type": "markdown",
      "metadata": {},
      "source": [
        "* Are there any NaN values or duplicates?"
      ]
    },
    {
      "cell_type": "code",
      "execution_count": null,
      "metadata": {},
      "outputs": [],
      "source": [
        "print(f\"`NaN` info for `df_hh_income`: {df_hh_income.isna().sum()}\\n\")\n",
        "print(f\"Duplicate # for `df_hh_income`: {df_hh_income.duplicated().sum()}\\n\")"
      ]
    },
    {
      "cell_type": "code",
      "execution_count": null,
      "metadata": {},
      "outputs": [],
      "source": [
        "print(f\"`NaN` info for `df_pct_poverty`: {df_pct_poverty.isna().sum()}\\n\")\n",
        "print(f\"Duplicate # for `df_pct_poverty`: {df_pct_poverty.duplicated().sum()}\\n\")"
      ]
    },
    {
      "cell_type": "code",
      "execution_count": null,
      "metadata": {},
      "outputs": [],
      "source": [
        "print(f\"`NaN` info for `df_pct_completed_hs`: {df_pct_completed_hs.isna().sum()}\\n\")\n",
        "print(f\"Duplicate # for `df_pct_completed_hs`: {df_pct_completed_hs.duplicated().sum()}\\n\")"
      ]
    },
    {
      "cell_type": "code",
      "execution_count": null,
      "metadata": {},
      "outputs": [],
      "source": [
        "print(f\"`NaN` info for `df_share_race_city`: {df_share_race_city.isna().sum()}\\n\")\n",
        "print(f\"Duplicate # for `df_share_race_city`: {df_share_race_city.duplicated().sum()}\\n\")"
      ]
    },
    {
      "cell_type": "code",
      "execution_count": null,
      "metadata": {},
      "outputs": [],
      "source": [
        "print(f\"`NaN` info for `df_fatalities`: {df_fatalities.isna().sum()}\\n\")\n",
        "print(f\"Duplicate # for `df_fatalities`: {df_fatalities.duplicated().sum()}\\n\")"
      ]
    },
    {
      "cell_type": "markdown",
      "metadata": {},
      "source": [
        "#### **_Analysis:_**"
      ]
    },
    {
      "cell_type": "markdown",
      "metadata": {},
      "source": [
        "df_hh_income and df_fatalities have NaN issues.\n",
        "\n",
        "None of the DFs have duplicates."
      ]
    },
    {
      "cell_type": "markdown",
      "metadata": {},
      "source": [
        "---"
      ]
    },
    {
      "cell_type": "markdown",
      "metadata": {
        "id": "p72TfMvayr2C"
      },
      "source": [
        "## **_Data Cleaning - Check for Missing Values and Duplicates_**\n",
        "\n",
        "Consider how to deal with the NaN values. Perhaps substituting 0 is appropriate. "
      ]
    },
    {
      "cell_type": "code",
      "execution_count": null,
      "metadata": {},
      "outputs": [],
      "source": [
        "# Before fixing NaNs:\n",
        "df_hh_income.isna().sum()"
      ]
    },
    {
      "cell_type": "code",
      "execution_count": null,
      "metadata": {},
      "outputs": [],
      "source": [
        "df_hh_income['Median Income'] = df_hh_income['Median Income'].fillna(0)"
      ]
    },
    {
      "cell_type": "code",
      "execution_count": null,
      "metadata": {},
      "outputs": [],
      "source": [
        "# After fixing NaNs:\n",
        "df_hh_income.isna().sum()"
      ]
    },
    {
      "cell_type": "markdown",
      "metadata": {},
      "source": [
        "---"
      ]
    },
    {
      "cell_type": "code",
      "execution_count": null,
      "metadata": {},
      "outputs": [],
      "source": [
        "# Before fixing NaNs:\n",
        "df_fatalities.isna().sum()"
      ]
    },
    {
      "cell_type": "code",
      "execution_count": null,
      "metadata": {
        "id": "WEZuPaXvyxxp"
      },
      "outputs": [],
      "source": [
        "df_fatalities['armed'] = df_fatalities['armed'].fillna(0)\n",
        "df_fatalities['age'] = df_fatalities['age'].fillna(0)\n",
        "df_fatalities['race'] = df_fatalities['race'].fillna(0)\n",
        "df_fatalities['flee'] = df_fatalities['flee'].fillna(0)"
      ]
    },
    {
      "cell_type": "code",
      "execution_count": null,
      "metadata": {},
      "outputs": [],
      "source": [
        "# After fixing NaNs:\n",
        "df_fatalities.isna().sum()"
      ]
    },
    {
      "cell_type": "markdown",
      "metadata": {},
      "source": [
        "#### **_Analysis:_**\n",
        "\n",
        "All `NaN`s handled.\n",
        "\n",
        "No duplicates to be handled."
      ]
    },
    {
      "cell_type": "markdown",
      "metadata": {},
      "source": [
        "---\n",
        "---"
      ]
    },
    {
      "cell_type": "markdown",
      "metadata": {
        "_uuid": "52b308c936f5835c5cd186497fe3f96e96372483",
        "id": "n3DrcXVQuRoZ"
      },
      "source": [
        "# **_Chart the Poverty Rate in each US State_**\n",
        "\n",
        "Create a bar chart that ranks the poverty rate from highest to lowest by US state. Which state has the highest poverty rate? Which state has the lowest poverty rate?  Bar Plot"
      ]
    },
    {
      "cell_type": "code",
      "execution_count": null,
      "metadata": {
        "id": "B3AM6oJQ1D_P"
      },
      "outputs": [],
      "source": [
        "df_hh_income\n",
        "df_pct_poverty\n",
        "df_pct_completed_hs\n",
        "df_share_race_city\n",
        "df_fatalities"
      ]
    },
    {
      "cell_type": "markdown",
      "metadata": {},
      "source": [
        "##### **_Check data types for column `poverty_rate`:_**"
      ]
    },
    {
      "cell_type": "code",
      "execution_count": null,
      "metadata": {},
      "outputs": [],
      "source": [
        "df_pct_poverty.dtypes"
      ]
    },
    {
      "cell_type": "markdown",
      "metadata": {},
      "source": [
        "##### **_Check all strings are numbers:_**"
      ]
    },
    {
      "cell_type": "code",
      "execution_count": null,
      "metadata": {},
      "outputs": [],
      "source": [
        "for i in df_pct_poverty.poverty_rate:\n",
        "    print(i)"
      ]
    },
    {
      "cell_type": "markdown",
      "metadata": {},
      "source": [
        "##### **_Some values are `-`, let's replace them with `0`:_**"
      ]
    },
    {
      "cell_type": "code",
      "execution_count": null,
      "metadata": {},
      "outputs": [],
      "source": [
        "df_pct_poverty[\"poverty_rate\"] = df_pct_poverty[\"poverty_rate\"].replace(\"-\", \"0\")"
      ]
    },
    {
      "cell_type": "markdown",
      "metadata": {},
      "source": [
        "##### **_Convert that column from str/object to numeric/int:_**"
      ]
    },
    {
      "cell_type": "code",
      "execution_count": null,
      "metadata": {},
      "outputs": [],
      "source": [
        "df_pct_poverty[\"poverty_rate\"] = pd.to_numeric(df_pct_poverty[\"poverty_rate\"])"
      ]
    },
    {
      "cell_type": "markdown",
      "metadata": {},
      "source": [
        "##### **_Remove rows w/0 (no data):_**"
      ]
    },
    {
      "cell_type": "code",
      "execution_count": null,
      "metadata": {},
      "outputs": [],
      "source": [
        "df_pct_poverty = df_pct_poverty[df_pct_poverty[\"poverty_rate\"] != 0]"
      ]
    },
    {
      "cell_type": "markdown",
      "metadata": {},
      "source": [
        "##### **_Two ways to aggregate data:_**"
      ]
    },
    {
      "cell_type": "code",
      "execution_count": null,
      "metadata": {},
      "outputs": [],
      "source": [
        "df_pov_state = df_pct_poverty.groupby(\"Geographic Area\")[\"poverty_rate\"].mean().reset_index()\n",
        "\n",
        "# Or:\n",
        "# df_pov_state = df_pct_poverty.groupby(\"Geographic Area\").agg({\"poverty_rate\": 'mean'}).reset_index()"
      ]
    },
    {
      "cell_type": "markdown",
      "metadata": {},
      "source": [
        "##### **_Sort and reset indices:_**"
      ]
    },
    {
      "cell_type": "code",
      "execution_count": null,
      "metadata": {},
      "outputs": [],
      "source": [
        "df_pov_state.sort_values(by=\"poverty_rate\", inplace=True, ascending=False)\n",
        "df_pov_state.reset_index(inplace=True, drop=True)"
      ]
    },
    {
      "cell_type": "markdown",
      "metadata": {},
      "source": [
        "##### **_Verify the new DF:_**"
      ]
    },
    {
      "cell_type": "code",
      "execution_count": null,
      "metadata": {},
      "outputs": [],
      "source": [
        "df_pov_state"
      ]
    },
    {
      "cell_type": "markdown",
      "metadata": {},
      "source": [
        "##### **_Colors I like for a white background:_**"
      ]
    },
    {
      "cell_type": "code",
      "execution_count": null,
      "metadata": {},
      "outputs": [],
      "source": [
        "seaborn_palettes = ['deep', 'muted', 'pastel', 'bright', 'dark', 'colorblind']"
      ]
    },
    {
      "cell_type": "code",
      "execution_count": null,
      "metadata": {},
      "outputs": [],
      "source": [
        "from matplotlib import colormaps\n",
        "all_palettes = list(colormaps) + seaborn_palettes"
      ]
    },
    {
      "cell_type": "code",
      "execution_count": null,
      "metadata": {},
      "outputs": [],
      "source": [
        "pov_states = df_pov_state[\"Geographic Area\"]\n",
        "pov_rate = df_pov_state[\"poverty_rate\"]"
      ]
    },
    {
      "cell_type": "code",
      "execution_count": null,
      "metadata": {},
      "outputs": [],
      "source": [
        "from random import choice, choices"
      ]
    },
    {
      "cell_type": "markdown",
      "metadata": {},
      "source": [
        "##### **_w/Seaborn:_**"
      ]
    },
    {
      "cell_type": "code",
      "execution_count": null,
      "metadata": {},
      "outputs": [],
      "source": [
        "# Initialize MatPlotLib figure\n",
        "fig, ax = plt.subplots(figsize=(17, 7))\n",
        "\n",
        "palette = choice(seaborn_palettes)\n",
        "\n",
        "# Plot the months/counts:\n",
        "# sns.barplot(x=pov_states, y=pov_rate, hue=pov_states, palette=palette, legend='auto')\n",
        "sns.barplot(\n",
        "    df_pov_state,\n",
        "    x=\"Geographic Area\",\n",
        "    y=\"poverty_rate\",\n",
        "    hue=\"Geographic Area\",\n",
        "    palette=palette,\n",
        ")\n",
        "\n",
        "plt.xlabel(\"States\", size=14, weight='bold')\n",
        "plt.ylabel(\"Poverty Rate (pct.)\", size=14, weight='bold')\n",
        "\n",
        "plt.title(f\"Poverty Rates: US States\\n(color palette: {palette})\",\n",
        "          size=20,\n",
        "          weight='bold')\n",
        "\n",
        "plt.show()"
      ]
    },
    {
      "cell_type": "code",
      "execution_count": null,
      "metadata": {},
      "outputs": [],
      "source": [
        "colors = [\"blue\", \"navy\", \"peru\",\n",
        "          \"black\", \"brown\", \"green\",\n",
        "          \"olive\", \"indigo\", \"maroon\",\n",
        "          \"purple\", \"sienna\", \"crimson\",\n",
        "          \"darkred\", \"dimgray\", \"darkblue\",\n",
        "          \"darkcyan\", \"deeppink\", \"seagreen\",\n",
        "          \"chocolate\", \"darkgreen\", \"darkkhaki\",\n",
        "          \"firebrick\", \"goldenrod\", \"limegreen\",\n",
        "          \"olivedrab\", \"palegreen\", \"rosybrown\",\n",
        "          \"royalblue\", \"slateblue\", \"steelblue\",\n",
        "          \"darkorange\", \"darkorchid\", \"darksalmon\",\n",
        "          \"darkviolet\", \"dodgerblue\", \"lightgreen\",\n",
        "          \"mediumblue\", \"sandybrown\", \"darkmagenta\",\n",
        "          \"forestgreen\", \"greenyellow\", \"saddlebrown\",\n",
        "          \"springgreen\", \"yellowgreen\", \"darkseagreen\",\n",
        "          \"midnightblue\", \"darkgoldenrod\", \"darkslateblue\",\n",
        "          \"darkslategray\", \"darkslategrey\", \"darkturquoise\",\n",
        "          \"rebeccapurple\", \"cornflowerblue\", \"darkolivegreen\",\n",
        "          \"mediumseagreen\", \"mediumslateblue\", \"mediumspringgreen\"]"
      ]
    },
    {
      "cell_type": "code",
      "execution_count": null,
      "metadata": {},
      "outputs": [],
      "source": [
        "bar_colors = choices(colors, k=len(df_pov_state))"
      ]
    },
    {
      "cell_type": "code",
      "execution_count": null,
      "metadata": {},
      "outputs": [],
      "source": [
        "# Create labels for legend:\n",
        "state_rate = zip(pov_states, pov_rate)\n",
        "labels_state_rate = [f\"{state}: {round(rate, 2)}%\" for state, rate in state_rate]"
      ]
    },
    {
      "cell_type": "markdown",
      "metadata": {},
      "source": [
        "##### **_w/Matplotlib and descriptive legend:_**"
      ]
    },
    {
      "cell_type": "code",
      "execution_count": null,
      "metadata": {},
      "outputs": [],
      "source": [
        "fig, ax = plt.subplots(figsize=(17, 11))\n",
        "\n",
        "ax.bar(x=pov_states,\n",
        "       height=pov_rate,\n",
        "       label=labels_state_rate,\n",
        "       color=bar_colors,\n",
        "       width=0.5)\n",
        "\n",
        "ax.set_title(\"Poverty Rates: US States\", fontsize=36, weight='bold')\n",
        "ax.set_xlabel(\"States\", fontsize=18)\n",
        "ax.set_ylabel(\"Poverty Rate Percentage\", fontsize=18)\n",
        "\n",
        "plt.legend(ncol=2,\n",
        "           title=\"State: Poverty Rate\",\n",
        "           fontsize='medium',\n",
        "           bbox_to_anchor=(1.05, 1))\n",
        "\n",
        "plt.xticks(rotation=90)\n",
        "\n",
        "plt.show()"
      ]
    },
    {
      "cell_type": "markdown",
      "metadata": {},
      "source": [
        "#### **_Analysis:_**"
      ]
    },
    {
      "cell_type": "code",
      "execution_count": null,
      "metadata": {},
      "outputs": [],
      "source": [
        "df_pov_state.describe()"
      ]
    },
    {
      "cell_type": "markdown",
      "metadata": {},
      "source": [
        "Which state has the highest poverty rate? \n",
        "\n",
        "- Mississippi (MS): $26.88\\%$\n",
        "\n",
        "Which state has the lowest poverty rate?\n",
        "\n",
        "- New Jersey (NJ): $8.16\\%$\n",
        "\n",
        "Middling:\n",
        "\n",
        "- Indiana (IN): $15.5\\%$"
      ]
    },
    {
      "cell_type": "markdown",
      "metadata": {},
      "source": [
        "---"
      ]
    },
    {
      "cell_type": "markdown",
      "metadata": {
        "id": "GhUibVz5z4sn"
      },
      "source": [
        "# **_Chart the High School Graduation Rate by US State_**\n",
        "\n",
        "Show the High School Graduation Rate in ascending order of US States.\n",
        "\n",
        "Which state has the lowest high school graduation rate?\n",
        "\n",
        "Which state has the highest?"
      ]
    },
    {
      "cell_type": "markdown",
      "metadata": {},
      "source": [
        "### **_Do the exact same as above:_**"
      ]
    },
    {
      "cell_type": "markdown",
      "metadata": {},
      "source": [
        "#### **_Clean/aggregate new dataframe:_**"
      ]
    },
    {
      "cell_type": "code",
      "execution_count": null,
      "metadata": {},
      "outputs": [],
      "source": [
        "df_pct_completed_hs.columns"
      ]
    },
    {
      "cell_type": "code",
      "execution_count": null,
      "metadata": {},
      "outputs": [],
      "source": [
        "df_pct_completed_hs.dtypes"
      ]
    },
    {
      "cell_type": "code",
      "execution_count": null,
      "metadata": {},
      "outputs": [],
      "source": [
        "for i in df_pct_completed_hs.percent_completed_hs:\n",
        "    print(i)"
      ]
    },
    {
      "cell_type": "code",
      "execution_count": null,
      "metadata": {},
      "outputs": [],
      "source": [
        "df_pct_completed_hs[\"percent_completed_hs\"] = df_pct_completed_hs[\"percent_completed_hs\"].replace(\"-\", \"0\")"
      ]
    },
    {
      "cell_type": "code",
      "execution_count": null,
      "metadata": {},
      "outputs": [],
      "source": [
        "df_pct_completed_hs[\"percent_completed_hs\"] = pd.to_numeric(df_pct_completed_hs[\"percent_completed_hs\"])"
      ]
    },
    {
      "cell_type": "code",
      "execution_count": null,
      "metadata": {},
      "outputs": [],
      "source": [
        "df_pct_completed_hs = df_pct_completed_hs[df_pct_completed_hs[\"percent_completed_hs\"] != 0]"
      ]
    },
    {
      "cell_type": "code",
      "execution_count": null,
      "metadata": {},
      "outputs": [],
      "source": [
        "df_pct_completed_hs"
      ]
    },
    {
      "cell_type": "code",
      "execution_count": null,
      "metadata": {},
      "outputs": [],
      "source": [
        "df_hs_state = df_pct_completed_hs.groupby(\"Geographic Area\")[\"percent_completed_hs\"].mean().reset_index()\n",
        "\n",
        "# Or:\n",
        "# df_hs_state = df_pct_completed_hs.groupby(\"Geographic Area\").agg({\"percent_completed_hs\": 'mean'}).reset_index()"
      ]
    },
    {
      "cell_type": "code",
      "execution_count": null,
      "metadata": {},
      "outputs": [],
      "source": [
        "df_hs_state\n",
        "# df_pct_completed_hs\n",
        "# percent_completed_hs\n"
      ]
    },
    {
      "cell_type": "code",
      "execution_count": null,
      "metadata": {},
      "outputs": [],
      "source": [
        "df_hs_state.sort_values(by=\"percent_completed_hs\", inplace=True, ascending=True)\n",
        "df_hs_state.reset_index(inplace=True, drop=True)"
      ]
    },
    {
      "cell_type": "code",
      "execution_count": null,
      "metadata": {},
      "outputs": [],
      "source": [
        "df_hs_state"
      ]
    },
    {
      "cell_type": "markdown",
      "metadata": {},
      "source": [
        "#### **_Plot:_**"
      ]
    },
    {
      "cell_type": "code",
      "execution_count": null,
      "metadata": {},
      "outputs": [],
      "source": [
        "colors = [\"blue\", \"navy\", \"peru\",\n",
        "          \"black\", \"brown\", \"green\",\n",
        "          \"olive\", \"indigo\", \"maroon\",\n",
        "          \"purple\", \"sienna\", \"crimson\",\n",
        "          \"darkred\", \"dimgray\", \"darkblue\",\n",
        "          \"darkcyan\", \"deeppink\", \"seagreen\",\n",
        "          \"chocolate\", \"darkgreen\", \"darkkhaki\",\n",
        "          \"firebrick\", \"goldenrod\", \"limegreen\",\n",
        "          \"olivedrab\", \"palegreen\", \"rosybrown\",\n",
        "          \"royalblue\", \"slateblue\", \"steelblue\",\n",
        "          \"darkorange\", \"darkorchid\", \"darksalmon\",\n",
        "          \"darkviolet\", \"dodgerblue\", \"lightgreen\",\n",
        "          \"mediumblue\", \"sandybrown\", \"darkmagenta\",\n",
        "          \"forestgreen\", \"greenyellow\", \"saddlebrown\",\n",
        "          \"springgreen\", \"yellowgreen\", \"darkseagreen\",\n",
        "          \"midnightblue\", \"darkgoldenrod\", \"darkslateblue\",\n",
        "          \"darkslategray\", \"darkslategrey\", \"darkturquoise\",\n",
        "          \"rebeccapurple\", \"cornflowerblue\", \"darkolivegreen\",\n",
        "          \"mediumseagreen\", \"mediumslateblue\", \"mediumspringgreen\"]"
      ]
    },
    {
      "cell_type": "code",
      "execution_count": null,
      "metadata": {},
      "outputs": [],
      "source": [
        "states = df_hs_state[\"Geographic Area\"]\n",
        "\n",
        "grad = df_hs_state[\"percent_completed_hs\"]\n",
        "\n",
        "# Create labels for legend:\n",
        "state_grad = zip(states, grad)\n",
        "labels_state_grad = [f\"{state}: {round(grad, 2)}%\" for state, grad in state_grad]"
      ]
    },
    {
      "cell_type": "code",
      "execution_count": null,
      "metadata": {},
      "outputs": [],
      "source": [
        "fig, ax = plt.subplots(figsize=(17, 11))\n",
        "\n",
        "bar_colors = choices(colors, k=len(df_hs_state))\n",
        "\n",
        "ax.bar(x=states,\n",
        "       height=grad,\n",
        "       label=labels_state_grad,\n",
        "       color=bar_colors,\n",
        "       width=0.5)\n",
        "\n",
        "ax.set_title(\"High School Graduation Rate:\\nUS States\", fontsize=36, weight='bold')\n",
        "ax.set_xlabel(\"States\", fontsize=18)\n",
        "ax.set_ylabel(\"High School Graduation Rate\", fontsize=18)\n",
        "\n",
        "plt.legend(ncol=2,\n",
        "           title=\"State: HS Grad Rate\",\n",
        "           fontsize='medium',\n",
        "           bbox_to_anchor=(1.05, 1))\n",
        "\n",
        "plt.xticks(rotation=90)\n",
        "\n",
        "plt.show()"
      ]
    },
    {
      "cell_type": "code",
      "execution_count": null,
      "metadata": {},
      "outputs": [],
      "source": [
        "df_pov_state.describe()"
      ]
    },
    {
      "cell_type": "markdown",
      "metadata": {},
      "source": [
        "#### **_Analysis:_**"
      ]
    },
    {
      "cell_type": "markdown",
      "metadata": {},
      "source": [
        "Which state has the lowest high school graduation rate?\n",
        "\n",
        "- Texas (TX): $76.77\\%$\n",
        "\n",
        "Which state has the highest?\n",
        "\n",
        "- Massachusetts (MA): $92.4\\%$\n",
        "\n",
        "Middle:\n",
        "\n",
        "- Ohio (OH): $88.34\\%$"
      ]
    },
    {
      "cell_type": "markdown",
      "metadata": {},
      "source": [
        "---\n",
        "---"
      ]
    },
    {
      "cell_type": "markdown",
      "metadata": {},
      "source": [
        "#### **_Create DF with poverty and high school data merged on State names:_**"
      ]
    },
    {
      "cell_type": "code",
      "execution_count": null,
      "metadata": {},
      "outputs": [],
      "source": [
        "df_state_hs_poverty = df_hs_state.merge(df_pov_state, on='Geographic Area')"
      ]
    },
    {
      "cell_type": "code",
      "execution_count": null,
      "metadata": {},
      "outputs": [],
      "source": [
        "df_state_hs_poverty"
      ]
    },
    {
      "cell_type": "code",
      "execution_count": null,
      "metadata": {},
      "outputs": [],
      "source": [
        "colors = [\n",
        "    \"black\", \"blue\", \"brown\", \"chocolate\", \"cornflowerblue\", \"crimson\", \"darkblue\",\n",
        "    \"darkcyan\", \"darkgoldenrod\", \"darkgreen\", \"darkkhaki\", \"darkmagenta\", \"darkolivegreen\",\n",
        "    \"darkorange\", \"darkorchid\", \"darkred\", \"darksalmon\", \"darkseagreen\", \"darkslateblue\",\n",
        "    \"darkslategray\", \"darkslategrey\", \"darkturquoise\", \"darkviolet\", \"deeppink\", \"dimgray\",\n",
        "    \"dodgerblue\", \"firebrick\", \"forestgreen\", \"goldenrod\", \"green\", \"greenyellow\", \"indigo\",\n",
        "    \"lightgreen\", \"limegreen\", \"maroon\", \"mediumblue\", \"mediumseagreen\", \"mediumslateblue\",\n",
        "    \"mediumspringgreen\", \"midnightblue\", \"navy\", \"olive\", \"olivedrab\", \"palegreen\", \"peru\",\n",
        "    \"purple\", \"rebeccapurple\", \"rosybrown\", \"royalblue\", \"saddlebrown\", \"sandybrown\",\n",
        "    \"seagreen\", \"sienna\", \"slateblue\", \"springgreen\", \"steelblue\", \"yellowgreen\"\n",
        "]\n",
        "\n",
        "linestyles = ['-', ':', '-', ':']"
      ]
    },
    {
      "cell_type": "markdown",
      "metadata": {},
      "source": [
        "#### **_Inspect date:_**"
      ]
    },
    {
      "cell_type": "code",
      "execution_count": null,
      "metadata": {},
      "outputs": [],
      "source": [
        "for i in range(len(df_state_hs_poverty)):\n",
        "    state = df_state_hs_poverty['Geographic Area'][i]\n",
        "    print(state)\n",
        "    state_grad_rate = df_state_hs_poverty['percent_completed_hs'][i]\n",
        "    print(state_grad_rate)\n",
        "    state_pov_rate = df_state_hs_poverty['poverty_rate'][i]\n",
        "    print(state_pov_rate)"
      ]
    },
    {
      "cell_type": "code",
      "execution_count": 323,
      "metadata": {},
      "outputs": [
        {
          "data": {
            "image/png": "[encoded data removed]",
            "text/plain": [
              "<Figure size 2500x1100 with 2 Axes>"
            ]
          },
          "metadata": {},
          "output_type": "display_data"
        }
      ],
      "source": [
        "# Create axes:\n",
        "fig, ax1 = plt.subplots(figsize=(25, 11))\n",
        "ax2 = ax1.twinx()\n",
        "\n",
        "# Extract data from DataFrame:\n",
        "states = df_state_hs_poverty['Geographic Area']\n",
        "state_grad_rates = np.round(df_state_hs_poverty['percent_completed_hs'], 2)\n",
        "state_pov_rates = np.round(df_state_hs_poverty['poverty_rate'], 2)\n",
        "\n",
        "# Axes colors (find good complements):\n",
        "ax1_color = 'steelblue'\n",
        "ax2_color = 'firebrick'\n",
        "\n",
        "# Plot left y-axis, Graduation Rate:\n",
        "ax1.plot(states,\n",
        "         state_grad_rates,\n",
        "         label=f\"{states}: {state_grad_rates}\",\n",
        "         linewidth=2,\n",
        "         linestyle='-',\n",
        "         marker='o',\n",
        "         color=ax1_color)\n",
        "\n",
        "# Plot right y-axis, Poverty Rate:         \n",
        "ax2.plot(states,\n",
        "         state_pov_rates,\n",
        "         label=f\"{states}: {state_pov_rates}\",\n",
        "         linewidth=2.5,\n",
        "         linestyle=':',\n",
        "         marker='o',\n",
        "         color=ax2_color)\n",
        "\n",
        "# Make a title:\n",
        "title = \"Dual Y-Axis Plot:\\n\"\n",
        "title += \"United States, by State ~2015:\\n\"\n",
        "title += \"High School Graduation Rate vs. Poverty Rate\\n\"\n",
        "title += \"(Source: U.S. Bureau of the Census)\"\n",
        "ax1.set_title(title, fontsize=24, weight='bold')\n",
        "\n",
        "\n",
        "# Make x-axis label:\n",
        "ax1.set_xlabel(\"State\", fontsize=14, weight='bold')\n",
        "\n",
        "# Make y-axes labels:\n",
        "ax1.set_ylabel(\"HS Graduation Percentage (age 25+)\",\n",
        "                fontsize=14,\n",
        "                weight='bold')\n",
        "\n",
        "ax2.set_ylabel(\"Poverty Rate Percentage\",\n",
        "               fontsize=14,\n",
        "               weight='bold')\n",
        "\n",
        "# Customize each axes grid for ease of plot visualization:\n",
        "ax1.grid(color=ax1_color, linestyle='-', alpha=0.7)\n",
        "ax1.yaxis.label.set_color(ax1_color)\n",
        "ax1.tick_params(axis='y', colors=ax1_color)\n",
        "\n",
        "ax2.grid(color=ax2_color, linestyle=':', alpha=0.7)\n",
        "ax2.yaxis.label.set_color(ax2_color)\n",
        "ax2.tick_params(axis='y', colors=ax2_color)\n",
        "\n",
        "# Show the thing:\n",
        "plt.show()"
      ]
    },
    {
      "cell_type": "markdown",
      "metadata": {
        "id": "ENGTEmPQ0Rvt"
      },
      "source": [
        "# **_Visualise the Relationship between Poverty Rates and High School Graduation Rates_**\n",
        "\n",
        "#### Create a line chart with two y-axes to show if the ratio of poverty and high school graduation move together.  "
      ]
    },
    {
      "cell_type": "code",
      "execution_count": null,
      "metadata": {
        "id": "MkNk5U8v0JPB"
      },
      "outputs": [],
      "source": []
    },
    {
      "cell_type": "code",
      "execution_count": null,
      "metadata": {
        "id": "urRMqQG_0Nmo"
      },
      "outputs": [],
      "source": []
    },
    {
      "cell_type": "markdown",
      "metadata": {
        "id": "Zavx_8PL1Jy9"
      },
      "source": [
        "#### Now use a Seaborn .jointplot() with a Kernel Density Estimate (KDE) and/or scatter plot to visualise the same relationship"
      ]
    },
    {
      "cell_type": "code",
      "execution_count": null,
      "metadata": {
        "id": "u77CHfdX0pjW"
      },
      "outputs": [],
      "source": []
    },
    {
      "cell_type": "code",
      "execution_count": null,
      "metadata": {
        "id": "CYy89o-u1zu0"
      },
      "outputs": [],
      "source": []
    },
    {
      "cell_type": "markdown",
      "metadata": {
        "id": "PXNFQmHl10Fx"
      },
      "source": [
        "#### Seaborn's `.lmplot()` or `.regplot()` to show a linear regression between the poverty ratio and the high school graduation ratio. "
      ]
    },
    {
      "cell_type": "code",
      "execution_count": null,
      "metadata": {
        "id": "F1xrjFgT1znI"
      },
      "outputs": [],
      "source": []
    },
    {
      "cell_type": "markdown",
      "metadata": {},
      "source": [
        "#### **_Analysis:_**"
      ]
    },
    {
      "cell_type": "markdown",
      "metadata": {},
      "source": [
        "---\n",
        "---"
      ]
    },
    {
      "cell_type": "markdown",
      "metadata": {
        "id": "QJTbZZKg0p6i"
      },
      "source": [
        "# **_Create a Bar Chart with Subsections Showing the Racial Makeup of Each US State_**\n",
        "\n",
        "Visualise the share of the white, black, hispanic, asian and native american population in each US State using a bar chart with sub sections. "
      ]
    },
    {
      "cell_type": "code",
      "execution_count": null,
      "metadata": {},
      "outputs": [],
      "source": [
        "df_hh_income\n",
        "df_pct_poverty\n",
        "df_pct_completed_hs\n",
        "df_share_race_city\n",
        "df_fatalities"
      ]
    },
    {
      "cell_type": "code",
      "execution_count": null,
      "metadata": {
        "id": "YQbXb6Ex09D9"
      },
      "outputs": [],
      "source": []
    },
    {
      "cell_type": "code",
      "execution_count": null,
      "metadata": {
        "id": "LqrimlLo09Na"
      },
      "outputs": [],
      "source": []
    },
    {
      "cell_type": "markdown",
      "metadata": {},
      "source": [
        "#### **_Analysis:_**"
      ]
    },
    {
      "cell_type": "markdown",
      "metadata": {},
      "source": [
        "---\n",
        "---"
      ]
    },
    {
      "cell_type": "markdown",
      "metadata": {
        "_uuid": "77493cfd86a031612be8fb8d60f27713e74e6d80",
        "id": "K7xvQXkjuRo7"
      },
      "source": [
        "# **_Create Donut Chart by of People Killed by Race_**\n",
        "\n",
        "Hint: Use `.value_counts()`"
      ]
    },
    {
      "cell_type": "code",
      "execution_count": null,
      "metadata": {
        "id": "1nOafPdy1u9Z"
      },
      "outputs": [],
      "source": []
    },
    {
      "cell_type": "code",
      "execution_count": null,
      "metadata": {
        "id": "YN3hzJTe1vHJ"
      },
      "outputs": [],
      "source": []
    },
    {
      "cell_type": "markdown",
      "metadata": {},
      "source": [
        "#### **_Analysis:_**"
      ]
    },
    {
      "cell_type": "markdown",
      "metadata": {},
      "source": [
        "---\n",
        "---"
      ]
    },
    {
      "cell_type": "markdown",
      "metadata": {
        "id": "kr-8Rezn3Bep"
      },
      "source": [
        "# **_Create a Chart Comparing the Total Number of Deaths of Men and Women_**\n",
        "\n",
        "Use `df_fatalities` to illustrate how many more men are killed compared to women. "
      ]
    },
    {
      "cell_type": "code",
      "execution_count": null,
      "metadata": {
        "id": "joH1L4303BsJ"
      },
      "outputs": [],
      "source": []
    },
    {
      "cell_type": "code",
      "execution_count": null,
      "metadata": {
        "id": "X4MrMkVa3MTk"
      },
      "outputs": [],
      "source": []
    },
    {
      "cell_type": "markdown",
      "metadata": {},
      "source": [
        "#### **_Analysis:_**"
      ]
    },
    {
      "cell_type": "markdown",
      "metadata": {},
      "source": [
        "---\n",
        "---"
      ]
    },
    {
      "cell_type": "markdown",
      "metadata": {
        "_uuid": "cd1531c8421bfb6967cebf7039056779f9b960a6",
        "id": "ZxbBdvM0uRpQ"
      },
      "source": [
        "# **_Create a Box Plot Showing the Age and Manner of Death_**\n",
        "\n",
        "Break out the data by gender using `df_fatalities`. Is there a difference between men and women in the manner of death? "
      ]
    },
    {
      "cell_type": "code",
      "execution_count": null,
      "metadata": {
        "id": "WdPPZLJY2shA"
      },
      "outputs": [],
      "source": []
    },
    {
      "cell_type": "code",
      "execution_count": null,
      "metadata": {
        "id": "tpPq4uFc2sql"
      },
      "outputs": [],
      "source": []
    },
    {
      "cell_type": "code",
      "execution_count": null,
      "metadata": {
        "id": "EnFbXlRm3XK6"
      },
      "outputs": [],
      "source": []
    },
    {
      "cell_type": "markdown",
      "metadata": {},
      "source": [
        "#### **_Analysis:_**"
      ]
    },
    {
      "cell_type": "markdown",
      "metadata": {},
      "source": [
        "---\n",
        "---"
      ]
    },
    {
      "cell_type": "markdown",
      "metadata": {
        "id": "h1pAgkyb3Xb0"
      },
      "source": [
        "# **_Were People Armed?_**\n",
        "\n",
        "In what percentage of police killings were people armed? Create chart that show what kind of weapon (if any) the deceased was carrying. How many of the people killed by police were armed with guns versus unarmed? "
      ]
    },
    {
      "cell_type": "code",
      "execution_count": null,
      "metadata": {
        "id": "0d9B3Pec4TdM"
      },
      "outputs": [],
      "source": []
    },
    {
      "cell_type": "code",
      "execution_count": null,
      "metadata": {
        "id": "vdGTO3pW4Tp5"
      },
      "outputs": [],
      "source": []
    },
    {
      "cell_type": "code",
      "execution_count": null,
      "metadata": {
        "id": "qnO_rckl4WuJ"
      },
      "outputs": [],
      "source": []
    },
    {
      "cell_type": "markdown",
      "metadata": {},
      "source": [
        "#### **_Analysis:_**"
      ]
    },
    {
      "cell_type": "markdown",
      "metadata": {},
      "source": [
        "---\n",
        "---"
      ]
    },
    {
      "cell_type": "markdown",
      "metadata": {
        "id": "IgD2a5-L4W_I"
      },
      "source": [
        "# **_How Old Were the People Killed?_**"
      ]
    },
    {
      "cell_type": "markdown",
      "metadata": {
        "id": "BNPrdT-W9lf3"
      },
      "source": [
        "Work out what percentage of people killed were under 25 years old.  "
      ]
    },
    {
      "cell_type": "code",
      "execution_count": null,
      "metadata": {
        "id": "zSyDgzb542O9"
      },
      "outputs": [],
      "source": []
    },
    {
      "cell_type": "markdown",
      "metadata": {
        "id": "5XrAD_ey9qBB"
      },
      "source": [
        "Create a histogram and KDE plot that shows the distribution of ages of the people killed by police. "
      ]
    },
    {
      "cell_type": "code",
      "execution_count": null,
      "metadata": {
        "id": "U6B1Qp7l42H8"
      },
      "outputs": [],
      "source": []
    },
    {
      "cell_type": "markdown",
      "metadata": {
        "id": "zcqqPDo79rTx"
      },
      "source": [
        "Create a seperate KDE plot for each race. Is there a difference between the distributions? "
      ]
    },
    {
      "cell_type": "code",
      "execution_count": null,
      "metadata": {
        "id": "ubUnMjok43Zo"
      },
      "outputs": [],
      "source": []
    },
    {
      "cell_type": "markdown",
      "metadata": {},
      "source": [
        "#### **_Analysis:_**"
      ]
    },
    {
      "cell_type": "markdown",
      "metadata": {},
      "source": [
        "---\n",
        "---"
      ]
    },
    {
      "cell_type": "markdown",
      "metadata": {
        "id": "JkcHvMUt43uE"
      },
      "source": [
        "# **_Race of People Killed_**\n",
        "\n",
        "Create a chart that shows the total number of people killed by race. "
      ]
    },
    {
      "cell_type": "code",
      "execution_count": null,
      "metadata": {
        "id": "e8wZvBrt5BEb"
      },
      "outputs": [],
      "source": []
    },
    {
      "cell_type": "code",
      "execution_count": null,
      "metadata": {
        "id": "_aqN0wC45BOl"
      },
      "outputs": [],
      "source": []
    },
    {
      "cell_type": "markdown",
      "metadata": {},
      "source": [
        "#### **_Analysis:_**"
      ]
    },
    {
      "cell_type": "markdown",
      "metadata": {},
      "source": [
        "---\n",
        "---"
      ]
    },
    {
      "cell_type": "markdown",
      "metadata": {
        "id": "SJaNm4rC5nWm"
      },
      "source": [
        "# **_Mental Illness and Police Killings_**\n",
        "\n",
        "What percentage of people killed by police have been diagnosed with a mental illness?"
      ]
    },
    {
      "cell_type": "code",
      "execution_count": null,
      "metadata": {
        "id": "dbuGvCnN5ytC"
      },
      "outputs": [],
      "source": []
    },
    {
      "cell_type": "code",
      "execution_count": null,
      "metadata": {
        "id": "BsKDVLiY5CP_"
      },
      "outputs": [],
      "source": []
    },
    {
      "cell_type": "markdown",
      "metadata": {},
      "source": [
        "#### **_Analysis:_**"
      ]
    },
    {
      "cell_type": "markdown",
      "metadata": {},
      "source": [
        "---"
      ]
    },
    {
      "cell_type": "markdown",
      "metadata": {
        "id": "R0WSPeKD5Cir"
      },
      "source": [
        "# **_In Which Cities Do the Most Police Killings Take Place?_**\n",
        "\n",
        "Create a chart ranking the top 10 cities with the most police killings. Which cities are the most dangerous?  "
      ]
    },
    {
      "cell_type": "code",
      "execution_count": null,
      "metadata": {
        "id": "NYVwo3qy5UV3"
      },
      "outputs": [],
      "source": []
    },
    {
      "cell_type": "code",
      "execution_count": null,
      "metadata": {
        "id": "T_FU4GFk5Upa"
      },
      "outputs": [],
      "source": []
    },
    {
      "cell_type": "markdown",
      "metadata": {},
      "source": [
        "#### **_Analysis:_**"
      ]
    },
    {
      "cell_type": "markdown",
      "metadata": {},
      "source": [
        "---"
      ]
    },
    {
      "cell_type": "markdown",
      "metadata": {
        "id": "AqcOW6ca8JMD"
      },
      "source": [
        "# **_Rate of Death by Race_**\n",
        "\n",
        "Find the share of each race in the top 10 cities. Contrast this with the top 10 cities of police killings to work out the rate at which people are killed by race for each city. "
      ]
    },
    {
      "cell_type": "code",
      "execution_count": null,
      "metadata": {
        "id": "FkjAUlKy8I2g"
      },
      "outputs": [],
      "source": []
    },
    {
      "cell_type": "code",
      "execution_count": null,
      "metadata": {
        "id": "dA3Hs9b55V59"
      },
      "outputs": [],
      "source": []
    },
    {
      "cell_type": "markdown",
      "metadata": {},
      "source": [
        "#### **_Analysis:_**"
      ]
    },
    {
      "cell_type": "markdown",
      "metadata": {},
      "source": [
        "---"
      ]
    },
    {
      "cell_type": "markdown",
      "metadata": {
        "id": "1HUJksrI5WFb"
      },
      "source": [
        "# **_Create a Choropleth Map of Police Killings by US State_**\n",
        "\n",
        "Which states are the most dangerous? Compare your map with your previous chart. Are these the same states with high degrees of poverty? "
      ]
    },
    {
      "cell_type": "code",
      "execution_count": null,
      "metadata": {
        "id": "u3UuX4Yo5dBA"
      },
      "outputs": [],
      "source": []
    },
    {
      "cell_type": "code",
      "execution_count": null,
      "metadata": {
        "id": "Y6VLPDeN5dKO"
      },
      "outputs": [],
      "source": []
    },
    {
      "cell_type": "markdown",
      "metadata": {},
      "source": [
        "#### **_Analysis:_**"
      ]
    },
    {
      "cell_type": "markdown",
      "metadata": {},
      "source": [
        "---"
      ]
    },
    {
      "cell_type": "markdown",
      "metadata": {
        "id": "37UsmVYF6hA2"
      },
      "source": [
        "# **_Number of Police Killings Over Time_**\n",
        "\n",
        "Analyse the Number of Police Killings over Time. Is there a trend in the data? "
      ]
    },
    {
      "cell_type": "code",
      "execution_count": null,
      "metadata": {
        "id": "nITf1IhP6gpI"
      },
      "outputs": [],
      "source": []
    },
    {
      "cell_type": "code",
      "execution_count": null,
      "metadata": {
        "id": "Q_vxjD_A7JRh"
      },
      "outputs": [],
      "source": []
    },
    {
      "cell_type": "code",
      "execution_count": null,
      "metadata": {
        "id": "mOqtie707JU8"
      },
      "outputs": [],
      "source": []
    },
    {
      "cell_type": "code",
      "execution_count": null,
      "metadata": {
        "id": "5fjhL8Lk7JKa"
      },
      "outputs": [],
      "source": []
    },
    {
      "cell_type": "markdown",
      "metadata": {},
      "source": [
        "#### **_Analysis:_**"
      ]
    },
    {
      "cell_type": "markdown",
      "metadata": {},
      "source": [
        "---"
      ]
    },
    {
      "cell_type": "markdown",
      "metadata": {
        "id": "9o6uLFpS61nw"
      },
      "source": [
        "# **_Epilogue_**\n",
        "\n",
        "Now that you have analysed the data yourself, read [The Washington Post's analysis here](https://www.washingtonpost.com/graphics/investigations/police-shootings-database/)."
      ]
    },
    {
      "cell_type": "code",
      "execution_count": null,
      "metadata": {
        "id": "8PjgzuNa61I1"
      },
      "outputs": [],
      "source": []
    },
    {
      "cell_type": "markdown",
      "metadata": {},
      "source": [
        "#### **_Analysis and Conclusion:_**"
      ]
    }
  ],
  "metadata": {
    "colab": {
      "name": "Fatal Force (start).ipynb",
      "provenance": []
    },
    "kernelspec": {
      "display_name": "Python 3",
      "language": "python",
      "name": "python3"
    },
    "language_info": {
      "codemirror_mode": {
        "name": "ipython",
        "version": 3
      },
      "file_extension": ".py",
      "mimetype": "text/x-python",
      "name": "python",
      "nbconvert_exporter": "python",
      "pygments_lexer": "ipython3",
      "version": "3.12.3"
    }
  },
  "nbformat": 4,
  "nbformat_minor": 0
}
